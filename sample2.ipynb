{
 "cells": [
  {
   "cell_type": "code",
   "execution_count": 1,
   "metadata": {},
   "outputs": [
    {
     "data": {
      "text/html": [
       "<div>\n",
       "<style scoped>\n",
       "    .dataframe tbody tr th:only-of-type {\n",
       "        vertical-align: middle;\n",
       "    }\n",
       "\n",
       "    .dataframe tbody tr th {\n",
       "        vertical-align: top;\n",
       "    }\n",
       "\n",
       "    .dataframe thead th {\n",
       "        text-align: right;\n",
       "    }\n",
       "</style>\n",
       "<table border=\"1\" class=\"dataframe\">\n",
       "  <thead>\n",
       "    <tr style=\"text-align: right;\">\n",
       "      <th></th>\n",
       "      <th>spot_id</th>\n",
       "      <th>spot_name</th>\n",
       "      <th>lat</th>\n",
       "      <th>lon</th>\n",
       "      <th>count</th>\n",
       "      <th>spot_types</th>\n",
       "      <th>is_parking</th>\n",
       "    </tr>\n",
       "  </thead>\n",
       "  <tbody>\n",
       "    <tr>\n",
       "      <th>0</th>\n",
       "      <td>0</td>\n",
       "      <td>奈良先端科学技術大学院大学 先端科学技術研究科 情報科学領域</td>\n",
       "      <td>34.731630</td>\n",
       "      <td>135.734690</td>\n",
       "      <td>16466</td>\n",
       "      <td>[university, point_of_interest, establishment]</td>\n",
       "      <td>True</td>\n",
       "    </tr>\n",
       "    <tr>\n",
       "      <th>1</th>\n",
       "      <td>1</td>\n",
       "      <td>学際融合領域研究棟２号館</td>\n",
       "      <td>34.732260</td>\n",
       "      <td>135.732430</td>\n",
       "      <td>5665</td>\n",
       "      <td>[university, point_of_interest, establishment]</td>\n",
       "      <td>True</td>\n",
       "    </tr>\n",
       "    <tr>\n",
       "      <th>2</th>\n",
       "      <td>2</td>\n",
       "      <td>物質創成科学領域E棟</td>\n",
       "      <td>34.730270</td>\n",
       "      <td>135.733930</td>\n",
       "      <td>5268</td>\n",
       "      <td>[university, point_of_interest, establishment]</td>\n",
       "      <td>True</td>\n",
       "    </tr>\n",
       "    <tr>\n",
       "      <th>3</th>\n",
       "      <td>3</td>\n",
       "      <td>学際融合領域研究棟1号館</td>\n",
       "      <td>34.730930</td>\n",
       "      <td>135.735370</td>\n",
       "      <td>4056</td>\n",
       "      <td>[university, point_of_interest, establishment]</td>\n",
       "      <td>True</td>\n",
       "    </tr>\n",
       "    <tr>\n",
       "      <th>4</th>\n",
       "      <td>4</td>\n",
       "      <td>学研奈良登美ヶ丘駅</td>\n",
       "      <td>34.726800</td>\n",
       "      <td>135.754380</td>\n",
       "      <td>3829</td>\n",
       "      <td>[spa, point_of_interest, establishment]</td>\n",
       "      <td>True</td>\n",
       "    </tr>\n",
       "    <tr>\n",
       "      <th>...</th>\n",
       "      <td>...</td>\n",
       "      <td>...</td>\n",
       "      <td>...</td>\n",
       "      <td>...</td>\n",
       "      <td>...</td>\n",
       "      <td>...</td>\n",
       "      <td>...</td>\n",
       "    </tr>\n",
       "    <tr>\n",
       "      <th>1362</th>\n",
       "      <td>1362</td>\n",
       "      <td>あずやん株式会社 本社</td>\n",
       "      <td>34.706371</td>\n",
       "      <td>135.698295</td>\n",
       "      <td>1</td>\n",
       "      <td>[point_of_interest, establishment]</td>\n",
       "      <td>False</td>\n",
       "    </tr>\n",
       "    <tr>\n",
       "      <th>1363</th>\n",
       "      <td>1363</td>\n",
       "      <td>こどものアトリエやまとぐみ</td>\n",
       "      <td>34.727695</td>\n",
       "      <td>135.727906</td>\n",
       "      <td>1</td>\n",
       "      <td>[point_of_interest, establishment]</td>\n",
       "      <td>False</td>\n",
       "    </tr>\n",
       "    <tr>\n",
       "      <th>1364</th>\n",
       "      <td>1364</td>\n",
       "      <td>ナチュラルゴルフレッスンスタジオ</td>\n",
       "      <td>34.712178</td>\n",
       "      <td>135.747856</td>\n",
       "      <td>1</td>\n",
       "      <td>[health, point_of_interest, establishment]</td>\n",
       "      <td>False</td>\n",
       "    </tr>\n",
       "    <tr>\n",
       "      <th>1365</th>\n",
       "      <td>1365</td>\n",
       "      <td>ラフェマリカ</td>\n",
       "      <td>34.717390</td>\n",
       "      <td>135.786221</td>\n",
       "      <td>1</td>\n",
       "      <td>[bakery, store, food, point_of_interest, estab...</td>\n",
       "      <td>False</td>\n",
       "    </tr>\n",
       "    <tr>\n",
       "      <th>1366</th>\n",
       "      <td>1366</td>\n",
       "      <td>黒添西池</td>\n",
       "      <td>34.762436</td>\n",
       "      <td>135.711761</td>\n",
       "      <td>1</td>\n",
       "      <td>[park, point_of_interest, establishment]</td>\n",
       "      <td>False</td>\n",
       "    </tr>\n",
       "  </tbody>\n",
       "</table>\n",
       "<p>1367 rows × 7 columns</p>\n",
       "</div>"
      ],
      "text/plain": [
       "      spot_id                       spot_name        lat         lon  count  \\\n",
       "0           0  奈良先端科学技術大学院大学 先端科学技術研究科 情報科学領域  34.731630  135.734690  16466   \n",
       "1           1                    学際融合領域研究棟２号館  34.732260  135.732430   5665   \n",
       "2           2                      物質創成科学領域E棟  34.730270  135.733930   5268   \n",
       "3           3                    学際融合領域研究棟1号館  34.730930  135.735370   4056   \n",
       "4           4                       学研奈良登美ヶ丘駅  34.726800  135.754380   3829   \n",
       "...       ...                             ...        ...         ...    ...   \n",
       "1362     1362                     あずやん株式会社 本社  34.706371  135.698295      1   \n",
       "1363     1363                   こどものアトリエやまとぐみ  34.727695  135.727906      1   \n",
       "1364     1364                ナチュラルゴルフレッスンスタジオ  34.712178  135.747856      1   \n",
       "1365     1365                          ラフェマリカ  34.717390  135.786221      1   \n",
       "1366     1366                            黒添西池  34.762436  135.711761      1   \n",
       "\n",
       "                                             spot_types  is_parking  \n",
       "0        [university, point_of_interest, establishment]        True  \n",
       "1        [university, point_of_interest, establishment]        True  \n",
       "2        [university, point_of_interest, establishment]        True  \n",
       "3        [university, point_of_interest, establishment]        True  \n",
       "4               [spa, point_of_interest, establishment]        True  \n",
       "...                                                 ...         ...  \n",
       "1362                 [point_of_interest, establishment]       False  \n",
       "1363                 [point_of_interest, establishment]       False  \n",
       "1364         [health, point_of_interest, establishment]       False  \n",
       "1365  [bakery, store, food, point_of_interest, estab...       False  \n",
       "1366           [park, point_of_interest, establishment]       False  \n",
       "\n",
       "[1367 rows x 7 columns]"
      ]
     },
     "execution_count": 1,
     "metadata": {},
     "output_type": "execute_result"
    }
   ],
   "source": [
    "import json\n",
    "import pandas as pd\n",
    "\n",
    "spot_df = pd.read_csv(\"./spot.csv\")\n",
    "history_df = pd.read_csv(\"./history.csv\", parse_dates=[\"started_at\", \"ended_at\"])\n",
    "trip_df = pd.read_csv(\"./trip.csv\", parse_dates=[\"created_at\"])\n",
    "user_df = pd.read_csv(\"./user.csv\")\n",
    "\n",
    "spot_df[\"spot_types\"] = spot_df[\"spot_types\"].map(json.loads)\n",
    "\n",
    "spot_df\n"
   ]
  },
  {
   "cell_type": "code",
   "execution_count": 2,
   "metadata": {},
   "outputs": [
    {
     "data": {
      "text/html": [
       "<div>\n",
       "<style scoped>\n",
       "    .dataframe tbody tr th:only-of-type {\n",
       "        vertical-align: middle;\n",
       "    }\n",
       "\n",
       "    .dataframe tbody tr th {\n",
       "        vertical-align: top;\n",
       "    }\n",
       "\n",
       "    .dataframe thead th {\n",
       "        text-align: right;\n",
       "    }\n",
       "</style>\n",
       "<table border=\"1\" class=\"dataframe\">\n",
       "  <thead>\n",
       "    <tr style=\"text-align: right;\">\n",
       "      <th></th>\n",
       "      <th>history_id</th>\n",
       "      <th>started_at</th>\n",
       "      <th>ended_at</th>\n",
       "      <th>from_parking_lot</th>\n",
       "      <th>to_parking_lot</th>\n",
       "      <th>car</th>\n",
       "      <th>passengers_count</th>\n",
       "      <th>distance</th>\n",
       "      <th>user_id</th>\n",
       "    </tr>\n",
       "  </thead>\n",
       "  <tbody>\n",
       "    <tr>\n",
       "      <th>0</th>\n",
       "      <td>202304_0</td>\n",
       "      <td>2023-04-01 02:13:00</td>\n",
       "      <td>2023-04-01 02:25:00</td>\n",
       "      <td>NAIST</td>\n",
       "      <td>NAIST</td>\n",
       "      <td>LEAF (STAFF ONLY)</td>\n",
       "      <td>1</td>\n",
       "      <td>-</td>\n",
       "      <td>130</td>\n",
       "    </tr>\n",
       "    <tr>\n",
       "      <th>1</th>\n",
       "      <td>202304_1</td>\n",
       "      <td>2023-04-01 05:44:00</td>\n",
       "      <td>2023-04-01 16:35:00</td>\n",
       "      <td>NAIST</td>\n",
       "      <td>NAIST</td>\n",
       "      <td>iMiev02</td>\n",
       "      <td>1</td>\n",
       "      <td>22.751227261674426</td>\n",
       "      <td>140</td>\n",
       "    </tr>\n",
       "    <tr>\n",
       "      <th>2</th>\n",
       "      <td>202304_2</td>\n",
       "      <td>2023-04-01 07:55:00</td>\n",
       "      <td>2023-04-01 10:38:00</td>\n",
       "      <td>NAIST</td>\n",
       "      <td>KEIHANA</td>\n",
       "      <td>LEAF (STAFF ONLY)</td>\n",
       "      <td>2</td>\n",
       "      <td>52.975722618365566</td>\n",
       "      <td>122</td>\n",
       "    </tr>\n",
       "    <tr>\n",
       "      <th>3</th>\n",
       "      <td>202304_3</td>\n",
       "      <td>2023-04-01 09:01:00</td>\n",
       "      <td>2023-04-01 11:24:00</td>\n",
       "      <td>NAIST</td>\n",
       "      <td>STATION</td>\n",
       "      <td>iMiev01</td>\n",
       "      <td>1</td>\n",
       "      <td>2.567993419320244</td>\n",
       "      <td>149</td>\n",
       "    </tr>\n",
       "    <tr>\n",
       "      <th>4</th>\n",
       "      <td>202304_4</td>\n",
       "      <td>2023-04-01 10:41:00</td>\n",
       "      <td>2023-04-01 13:18:00</td>\n",
       "      <td>KEIHANA</td>\n",
       "      <td>KEIHANA</td>\n",
       "      <td>LEAF (STAFF ONLY)</td>\n",
       "      <td>1</td>\n",
       "      <td>1.2047719580799798</td>\n",
       "      <td>122</td>\n",
       "    </tr>\n",
       "    <tr>\n",
       "      <th>...</th>\n",
       "      <td>...</td>\n",
       "      <td>...</td>\n",
       "      <td>...</td>\n",
       "      <td>...</td>\n",
       "      <td>...</td>\n",
       "      <td>...</td>\n",
       "      <td>...</td>\n",
       "      <td>...</td>\n",
       "      <td>...</td>\n",
       "    </tr>\n",
       "    <tr>\n",
       "      <th>3367</th>\n",
       "      <td>202403_76</td>\n",
       "      <td>2024-03-30 22:00:00</td>\n",
       "      <td>2024-03-31 00:14:00</td>\n",
       "      <td>NAIST</td>\n",
       "      <td>NAIST</td>\n",
       "      <td>SAKURA1</td>\n",
       "      <td>2</td>\n",
       "      <td>0.0</td>\n",
       "      <td>176</td>\n",
       "    </tr>\n",
       "    <tr>\n",
       "      <th>3368</th>\n",
       "      <td>202403_77</td>\n",
       "      <td>2024-03-31 02:00:00</td>\n",
       "      <td>2024-03-31 02:54:00</td>\n",
       "      <td>NAIST</td>\n",
       "      <td>NAIST</td>\n",
       "      <td>SAKURA1</td>\n",
       "      <td>1</td>\n",
       "      <td>0.0</td>\n",
       "      <td>182</td>\n",
       "    </tr>\n",
       "    <tr>\n",
       "      <th>3369</th>\n",
       "      <td>202403_78</td>\n",
       "      <td>2024-03-31 07:01:00</td>\n",
       "      <td>2024-03-31 19:34:00</td>\n",
       "      <td>NAIST</td>\n",
       "      <td>NAIST</td>\n",
       "      <td>SAKURA1</td>\n",
       "      <td>3</td>\n",
       "      <td>0.0</td>\n",
       "      <td>197</td>\n",
       "    </tr>\n",
       "    <tr>\n",
       "      <th>3370</th>\n",
       "      <td>202403_79</td>\n",
       "      <td>2024-03-31 20:06:00</td>\n",
       "      <td>2024-03-31 21:06:00</td>\n",
       "      <td>NAIST</td>\n",
       "      <td>NAIST</td>\n",
       "      <td>SAKURA1</td>\n",
       "      <td>1</td>\n",
       "      <td>0.0</td>\n",
       "      <td>118</td>\n",
       "    </tr>\n",
       "    <tr>\n",
       "      <th>3371</th>\n",
       "      <td>202403_80</td>\n",
       "      <td>2024-03-31 21:42:00</td>\n",
       "      <td>2024-03-31 23:03:00</td>\n",
       "      <td>NAIST</td>\n",
       "      <td>NAIST</td>\n",
       "      <td>SAKURA1</td>\n",
       "      <td>0</td>\n",
       "      <td>0.0</td>\n",
       "      <td>192</td>\n",
       "    </tr>\n",
       "  </tbody>\n",
       "</table>\n",
       "<p>3372 rows × 9 columns</p>\n",
       "</div>"
      ],
      "text/plain": [
       "     history_id          started_at            ended_at from_parking_lot  \\\n",
       "0      202304_0 2023-04-01 02:13:00 2023-04-01 02:25:00            NAIST   \n",
       "1      202304_1 2023-04-01 05:44:00 2023-04-01 16:35:00            NAIST   \n",
       "2      202304_2 2023-04-01 07:55:00 2023-04-01 10:38:00            NAIST   \n",
       "3      202304_3 2023-04-01 09:01:00 2023-04-01 11:24:00            NAIST   \n",
       "4      202304_4 2023-04-01 10:41:00 2023-04-01 13:18:00          KEIHANA   \n",
       "...         ...                 ...                 ...              ...   \n",
       "3367  202403_76 2024-03-30 22:00:00 2024-03-31 00:14:00            NAIST   \n",
       "3368  202403_77 2024-03-31 02:00:00 2024-03-31 02:54:00            NAIST   \n",
       "3369  202403_78 2024-03-31 07:01:00 2024-03-31 19:34:00            NAIST   \n",
       "3370  202403_79 2024-03-31 20:06:00 2024-03-31 21:06:00            NAIST   \n",
       "3371  202403_80 2024-03-31 21:42:00 2024-03-31 23:03:00            NAIST   \n",
       "\n",
       "     to_parking_lot                car  passengers_count            distance  \\\n",
       "0             NAIST  LEAF (STAFF ONLY)                 1                   -   \n",
       "1             NAIST            iMiev02                 1  22.751227261674426   \n",
       "2           KEIHANA  LEAF (STAFF ONLY)                 2  52.975722618365566   \n",
       "3           STATION            iMiev01                 1   2.567993419320244   \n",
       "4           KEIHANA  LEAF (STAFF ONLY)                 1  1.2047719580799798   \n",
       "...             ...                ...               ...                 ...   \n",
       "3367          NAIST            SAKURA1                 2                 0.0   \n",
       "3368          NAIST            SAKURA1                 1                 0.0   \n",
       "3369          NAIST            SAKURA1                 3                 0.0   \n",
       "3370          NAIST            SAKURA1                 1                 0.0   \n",
       "3371          NAIST            SAKURA1                 0                 0.0   \n",
       "\n",
       "      user_id  \n",
       "0         130  \n",
       "1         140  \n",
       "2         122  \n",
       "3         149  \n",
       "4         122  \n",
       "...       ...  \n",
       "3367      176  \n",
       "3368      182  \n",
       "3369      197  \n",
       "3370      118  \n",
       "3371      192  \n",
       "\n",
       "[3372 rows x 9 columns]"
      ]
     },
     "execution_count": 2,
     "metadata": {},
     "output_type": "execute_result"
    }
   ],
   "source": [
    "history_df"
   ]
  },
  {
   "cell_type": "code",
   "execution_count": 3,
   "metadata": {},
   "outputs": [
    {
     "name": "stdout",
     "output_type": "stream",
     "text": [
      "6\n"
     ]
    },
    {
     "data": {
      "text/html": [
       "<div>\n",
       "<style scoped>\n",
       "    .dataframe tbody tr th:only-of-type {\n",
       "        vertical-align: middle;\n",
       "    }\n",
       "\n",
       "    .dataframe tbody tr th {\n",
       "        vertical-align: top;\n",
       "    }\n",
       "\n",
       "    .dataframe thead th {\n",
       "        text-align: right;\n",
       "    }\n",
       "</style>\n",
       "<table border=\"1\" class=\"dataframe\">\n",
       "  <thead>\n",
       "    <tr style=\"text-align: right;\">\n",
       "      <th></th>\n",
       "      <th>created_at</th>\n",
       "      <th>lat</th>\n",
       "      <th>lon</th>\n",
       "      <th>car</th>\n",
       "      <th>user_id</th>\n",
       "      <th>spot_id</th>\n",
       "      <th>history_id</th>\n",
       "    </tr>\n",
       "  </thead>\n",
       "  <tbody>\n",
       "    <tr>\n",
       "      <th>0</th>\n",
       "      <td>2023-04-01 06:20:00</td>\n",
       "      <td>34.731593</td>\n",
       "      <td>135.734878</td>\n",
       "      <td>iMiev02</td>\n",
       "      <td>140</td>\n",
       "      <td>0</td>\n",
       "      <td>202304_1</td>\n",
       "    </tr>\n",
       "    <tr>\n",
       "      <th>1</th>\n",
       "      <td>2023-04-01 07:20:00</td>\n",
       "      <td>34.731593</td>\n",
       "      <td>135.734878</td>\n",
       "      <td>iMiev02</td>\n",
       "      <td>140</td>\n",
       "      <td>0</td>\n",
       "      <td>202304_1</td>\n",
       "    </tr>\n",
       "    <tr>\n",
       "      <th>2</th>\n",
       "      <td>2023-04-01 08:20:00</td>\n",
       "      <td>34.731593</td>\n",
       "      <td>135.734878</td>\n",
       "      <td>iMiev02</td>\n",
       "      <td>140</td>\n",
       "      <td>0</td>\n",
       "      <td>202304_1</td>\n",
       "    </tr>\n",
       "    <tr>\n",
       "      <th>3</th>\n",
       "      <td>2023-04-01 09:20:00</td>\n",
       "      <td>34.731593</td>\n",
       "      <td>135.734878</td>\n",
       "      <td>iMiev02</td>\n",
       "      <td>140</td>\n",
       "      <td>0</td>\n",
       "      <td>202304_1</td>\n",
       "    </tr>\n",
       "    <tr>\n",
       "      <th>4</th>\n",
       "      <td>2023-04-01 09:32:00</td>\n",
       "      <td>35.050930</td>\n",
       "      <td>135.552915</td>\n",
       "      <td>LEAF (STAFF ONLY)</td>\n",
       "      <td>122</td>\n",
       "      <td>1280</td>\n",
       "      <td>202304_2</td>\n",
       "    </tr>\n",
       "    <tr>\n",
       "      <th>...</th>\n",
       "      <td>...</td>\n",
       "      <td>...</td>\n",
       "      <td>...</td>\n",
       "      <td>...</td>\n",
       "      <td>...</td>\n",
       "      <td>...</td>\n",
       "      <td>...</td>\n",
       "    </tr>\n",
       "    <tr>\n",
       "      <th>13776</th>\n",
       "      <td>2024-02-29 19:51:00</td>\n",
       "      <td>34.714703</td>\n",
       "      <td>135.772463</td>\n",
       "      <td>SAKURA</td>\n",
       "      <td>194</td>\n",
       "      <td>751</td>\n",
       "      <td>202402_68</td>\n",
       "    </tr>\n",
       "    <tr>\n",
       "      <th>13777</th>\n",
       "      <td>2024-02-29 19:54:00</td>\n",
       "      <td>34.718375</td>\n",
       "      <td>135.772172</td>\n",
       "      <td>SAKURA</td>\n",
       "      <td>194</td>\n",
       "      <td>41</td>\n",
       "      <td>202402_68</td>\n",
       "    </tr>\n",
       "    <tr>\n",
       "      <th>13778</th>\n",
       "      <td>2024-02-29 20:37:00</td>\n",
       "      <td>34.731574</td>\n",
       "      <td>135.735002</td>\n",
       "      <td>SAKURA</td>\n",
       "      <td>194</td>\n",
       "      <td>0</td>\n",
       "      <td>202402_68</td>\n",
       "    </tr>\n",
       "    <tr>\n",
       "      <th>13779</th>\n",
       "      <td>2024-02-29 20:45:00</td>\n",
       "      <td>34.731618</td>\n",
       "      <td>135.734950</td>\n",
       "      <td>SAKURA</td>\n",
       "      <td>194</td>\n",
       "      <td>0</td>\n",
       "      <td>202402_68</td>\n",
       "    </tr>\n",
       "    <tr>\n",
       "      <th>13780</th>\n",
       "      <td>2024-02-29 20:49:00</td>\n",
       "      <td>34.731618</td>\n",
       "      <td>135.734946</td>\n",
       "      <td>SAKURA</td>\n",
       "      <td>194</td>\n",
       "      <td>0</td>\n",
       "      <td>202402_68</td>\n",
       "    </tr>\n",
       "  </tbody>\n",
       "</table>\n",
       "<p>13781 rows × 7 columns</p>\n",
       "</div>"
      ],
      "text/plain": [
       "               created_at        lat         lon                car  user_id  \\\n",
       "0     2023-04-01 06:20:00  34.731593  135.734878            iMiev02      140   \n",
       "1     2023-04-01 07:20:00  34.731593  135.734878            iMiev02      140   \n",
       "2     2023-04-01 08:20:00  34.731593  135.734878            iMiev02      140   \n",
       "3     2023-04-01 09:20:00  34.731593  135.734878            iMiev02      140   \n",
       "4     2023-04-01 09:32:00  35.050930  135.552915  LEAF (STAFF ONLY)      122   \n",
       "...                   ...        ...         ...                ...      ...   \n",
       "13776 2024-02-29 19:51:00  34.714703  135.772463             SAKURA      194   \n",
       "13777 2024-02-29 19:54:00  34.718375  135.772172             SAKURA      194   \n",
       "13778 2024-02-29 20:37:00  34.731574  135.735002             SAKURA      194   \n",
       "13779 2024-02-29 20:45:00  34.731618  135.734950             SAKURA      194   \n",
       "13780 2024-02-29 20:49:00  34.731618  135.734946             SAKURA      194   \n",
       "\n",
       "       spot_id history_id  \n",
       "0            0   202304_1  \n",
       "1            0   202304_1  \n",
       "2            0   202304_1  \n",
       "3            0   202304_1  \n",
       "4         1280   202304_2  \n",
       "...        ...        ...  \n",
       "13776      751  202402_68  \n",
       "13777       41  202402_68  \n",
       "13778        0  202402_68  \n",
       "13779        0  202402_68  \n",
       "13780        0  202402_68  \n",
       "\n",
       "[13781 rows x 7 columns]"
      ]
     },
     "execution_count": 3,
     "metadata": {},
     "output_type": "execute_result"
    }
   ],
   "source": [
    "print(trip_df.iloc[0][\"created_at\"].hour)\n",
    "\n",
    "trip_df"
   ]
  },
  {
   "cell_type": "code",
   "execution_count": 4,
   "metadata": {},
   "outputs": [
    {
     "data": {
      "text/html": [
       "<div>\n",
       "<style scoped>\n",
       "    .dataframe tbody tr th:only-of-type {\n",
       "        vertical-align: middle;\n",
       "    }\n",
       "\n",
       "    .dataframe tbody tr th {\n",
       "        vertical-align: top;\n",
       "    }\n",
       "\n",
       "    .dataframe thead th {\n",
       "        text-align: right;\n",
       "    }\n",
       "</style>\n",
       "<table border=\"1\" class=\"dataframe\">\n",
       "  <thead>\n",
       "    <tr style=\"text-align: right;\">\n",
       "      <th></th>\n",
       "      <th>user_id</th>\n",
       "      <th>user_type</th>\n",
       "    </tr>\n",
       "  </thead>\n",
       "  <tbody>\n",
       "    <tr>\n",
       "      <th>0</th>\n",
       "      <td>1</td>\n",
       "      <td>staff</td>\n",
       "    </tr>\n",
       "    <tr>\n",
       "      <th>1</th>\n",
       "      <td>2</td>\n",
       "      <td>staff</td>\n",
       "    </tr>\n",
       "    <tr>\n",
       "      <th>2</th>\n",
       "      <td>3</td>\n",
       "      <td>staff</td>\n",
       "    </tr>\n",
       "    <tr>\n",
       "      <th>3</th>\n",
       "      <td>4</td>\n",
       "      <td>staff</td>\n",
       "    </tr>\n",
       "    <tr>\n",
       "      <th>4</th>\n",
       "      <td>5</td>\n",
       "      <td>staff</td>\n",
       "    </tr>\n",
       "    <tr>\n",
       "      <th>...</th>\n",
       "      <td>...</td>\n",
       "      <td>...</td>\n",
       "    </tr>\n",
       "    <tr>\n",
       "      <th>238</th>\n",
       "      <td>234</td>\n",
       "      <td>student</td>\n",
       "    </tr>\n",
       "    <tr>\n",
       "      <th>239</th>\n",
       "      <td>235</td>\n",
       "      <td>student</td>\n",
       "    </tr>\n",
       "    <tr>\n",
       "      <th>240</th>\n",
       "      <td>236</td>\n",
       "      <td>student</td>\n",
       "    </tr>\n",
       "    <tr>\n",
       "      <th>241</th>\n",
       "      <td>237</td>\n",
       "      <td>student</td>\n",
       "    </tr>\n",
       "    <tr>\n",
       "      <th>242</th>\n",
       "      <td>238</td>\n",
       "      <td>student</td>\n",
       "    </tr>\n",
       "  </tbody>\n",
       "</table>\n",
       "<p>243 rows × 2 columns</p>\n",
       "</div>"
      ],
      "text/plain": [
       "     user_id user_type\n",
       "0          1     staff\n",
       "1          2     staff\n",
       "2          3     staff\n",
       "3          4     staff\n",
       "4          5     staff\n",
       "..       ...       ...\n",
       "238      234   student\n",
       "239      235   student\n",
       "240      236   student\n",
       "241      237   student\n",
       "242      238   student\n",
       "\n",
       "[243 rows x 2 columns]"
      ]
     },
     "execution_count": 4,
     "metadata": {},
     "output_type": "execute_result"
    }
   ],
   "source": [
    "user_df"
   ]
  },
  {
   "cell_type": "code",
   "execution_count": 5,
   "metadata": {},
   "outputs": [
    {
     "data": {
      "text/html": [
       "<div>\n",
       "<style scoped>\n",
       "    .dataframe tbody tr th:only-of-type {\n",
       "        vertical-align: middle;\n",
       "    }\n",
       "\n",
       "    .dataframe tbody tr th {\n",
       "        vertical-align: top;\n",
       "    }\n",
       "\n",
       "    .dataframe thead th {\n",
       "        text-align: right;\n",
       "    }\n",
       "</style>\n",
       "<table border=\"1\" class=\"dataframe\">\n",
       "  <thead>\n",
       "    <tr style=\"text-align: right;\">\n",
       "      <th></th>\n",
       "      <th>user_id</th>\n",
       "      <th>spot_id</th>\n",
       "      <th>spot_name</th>\n",
       "      <th>created_at</th>\n",
       "      <th>car</th>\n",
       "      <th>is_parking</th>\n",
       "    </tr>\n",
       "  </thead>\n",
       "  <tbody>\n",
       "    <tr>\n",
       "      <th>0</th>\n",
       "      <td>140</td>\n",
       "      <td>0</td>\n",
       "      <td>奈良先端科学技術大学院大学 先端科学技術研究科 情報科学領域</td>\n",
       "      <td>2023-04-01 06:20:00</td>\n",
       "      <td>iMiev02</td>\n",
       "      <td>True</td>\n",
       "    </tr>\n",
       "    <tr>\n",
       "      <th>1</th>\n",
       "      <td>140</td>\n",
       "      <td>0</td>\n",
       "      <td>奈良先端科学技術大学院大学 先端科学技術研究科 情報科学領域</td>\n",
       "      <td>2023-04-01 07:20:00</td>\n",
       "      <td>iMiev02</td>\n",
       "      <td>True</td>\n",
       "    </tr>\n",
       "    <tr>\n",
       "      <th>2</th>\n",
       "      <td>140</td>\n",
       "      <td>0</td>\n",
       "      <td>奈良先端科学技術大学院大学 先端科学技術研究科 情報科学領域</td>\n",
       "      <td>2023-04-01 08:20:00</td>\n",
       "      <td>iMiev02</td>\n",
       "      <td>True</td>\n",
       "    </tr>\n",
       "    <tr>\n",
       "      <th>3</th>\n",
       "      <td>140</td>\n",
       "      <td>0</td>\n",
       "      <td>奈良先端科学技術大学院大学 先端科学技術研究科 情報科学領域</td>\n",
       "      <td>2023-04-01 09:20:00</td>\n",
       "      <td>iMiev02</td>\n",
       "      <td>True</td>\n",
       "    </tr>\n",
       "    <tr>\n",
       "      <th>4</th>\n",
       "      <td>149</td>\n",
       "      <td>0</td>\n",
       "      <td>奈良先端科学技術大学院大学 先端科学技術研究科 情報科学領域</td>\n",
       "      <td>2023-04-01 09:47:00</td>\n",
       "      <td>iMiev01</td>\n",
       "      <td>True</td>\n",
       "    </tr>\n",
       "    <tr>\n",
       "      <th>...</th>\n",
       "      <td>...</td>\n",
       "      <td>...</td>\n",
       "      <td>...</td>\n",
       "      <td>...</td>\n",
       "      <td>...</td>\n",
       "      <td>...</td>\n",
       "    </tr>\n",
       "    <tr>\n",
       "      <th>13776</th>\n",
       "      <td>163</td>\n",
       "      <td>181</td>\n",
       "      <td>アートスタジオ</td>\n",
       "      <td>2024-02-28 13:12:00</td>\n",
       "      <td>SAKURA</td>\n",
       "      <td>False</td>\n",
       "    </tr>\n",
       "    <tr>\n",
       "      <th>13777</th>\n",
       "      <td>145</td>\n",
       "      <td>442</td>\n",
       "      <td>草々</td>\n",
       "      <td>2024-02-28 15:31:00</td>\n",
       "      <td>SAKURA</td>\n",
       "      <td>False</td>\n",
       "    </tr>\n",
       "    <tr>\n",
       "      <th>13778</th>\n",
       "      <td>194</td>\n",
       "      <td>194</td>\n",
       "      <td>生駒郵便局集荷</td>\n",
       "      <td>2024-02-29 15:28:00</td>\n",
       "      <td>SAKURA</td>\n",
       "      <td>False</td>\n",
       "    </tr>\n",
       "    <tr>\n",
       "      <th>13779</th>\n",
       "      <td>194</td>\n",
       "      <td>751</td>\n",
       "      <td>はま寿司 奈良押熊店</td>\n",
       "      <td>2024-02-29 19:01:00</td>\n",
       "      <td>SAKURA</td>\n",
       "      <td>False</td>\n",
       "    </tr>\n",
       "    <tr>\n",
       "      <th>13780</th>\n",
       "      <td>194</td>\n",
       "      <td>751</td>\n",
       "      <td>はま寿司 奈良押熊店</td>\n",
       "      <td>2024-02-29 19:51:00</td>\n",
       "      <td>SAKURA</td>\n",
       "      <td>False</td>\n",
       "    </tr>\n",
       "  </tbody>\n",
       "</table>\n",
       "<p>13781 rows × 6 columns</p>\n",
       "</div>"
      ],
      "text/plain": [
       "       user_id  spot_id                       spot_name          created_at  \\\n",
       "0          140        0  奈良先端科学技術大学院大学 先端科学技術研究科 情報科学領域 2023-04-01 06:20:00   \n",
       "1          140        0  奈良先端科学技術大学院大学 先端科学技術研究科 情報科学領域 2023-04-01 07:20:00   \n",
       "2          140        0  奈良先端科学技術大学院大学 先端科学技術研究科 情報科学領域 2023-04-01 08:20:00   \n",
       "3          140        0  奈良先端科学技術大学院大学 先端科学技術研究科 情報科学領域 2023-04-01 09:20:00   \n",
       "4          149        0  奈良先端科学技術大学院大学 先端科学技術研究科 情報科学領域 2023-04-01 09:47:00   \n",
       "...        ...      ...                             ...                 ...   \n",
       "13776      163      181                         アートスタジオ 2024-02-28 13:12:00   \n",
       "13777      145      442                              草々 2024-02-28 15:31:00   \n",
       "13778      194      194                         生駒郵便局集荷 2024-02-29 15:28:00   \n",
       "13779      194      751                      はま寿司 奈良押熊店 2024-02-29 19:01:00   \n",
       "13780      194      751                      はま寿司 奈良押熊店 2024-02-29 19:51:00   \n",
       "\n",
       "           car  is_parking  \n",
       "0      iMiev02        True  \n",
       "1      iMiev02        True  \n",
       "2      iMiev02        True  \n",
       "3      iMiev02        True  \n",
       "4      iMiev01        True  \n",
       "...        ...         ...  \n",
       "13776   SAKURA       False  \n",
       "13777   SAKURA       False  \n",
       "13778   SAKURA       False  \n",
       "13779   SAKURA       False  \n",
       "13780   SAKURA       False  \n",
       "\n",
       "[13781 rows x 6 columns]"
      ]
     },
     "execution_count": 5,
     "metadata": {},
     "output_type": "execute_result"
    }
   ],
   "source": [
    "\"\"\"必要なデータ(trip_df, spot_df)を結合し，データの整形\"\"\"\n",
    "merged_df1 = pd.merge(trip_df, spot_df, on=\"spot_id\")[[\"user_id\", \"spot_id\", \"spot_name\", \"created_at\", \"car\", \"is_parking\"]]\n",
    "merged_df1"
   ]
  },
  {
   "cell_type": "code",
   "execution_count": 6,
   "metadata": {},
   "outputs": [
    {
     "data": {
      "text/html": [
       "<div>\n",
       "<style scoped>\n",
       "    .dataframe tbody tr th:only-of-type {\n",
       "        vertical-align: middle;\n",
       "    }\n",
       "\n",
       "    .dataframe tbody tr th {\n",
       "        vertical-align: top;\n",
       "    }\n",
       "\n",
       "    .dataframe thead th {\n",
       "        text-align: right;\n",
       "    }\n",
       "</style>\n",
       "<table border=\"1\" class=\"dataframe\">\n",
       "  <thead>\n",
       "    <tr style=\"text-align: right;\">\n",
       "      <th></th>\n",
       "      <th>user_id</th>\n",
       "      <th>spot_id</th>\n",
       "      <th>spot_name</th>\n",
       "      <th>created_at</th>\n",
       "      <th>car</th>\n",
       "      <th>is_parking</th>\n",
       "      <th>user_type</th>\n",
       "    </tr>\n",
       "  </thead>\n",
       "  <tbody>\n",
       "    <tr>\n",
       "      <th>0</th>\n",
       "      <td>140</td>\n",
       "      <td>0</td>\n",
       "      <td>奈良先端科学技術大学院大学 先端科学技術研究科 情報科学領域</td>\n",
       "      <td>2023-04-01 06:20:00</td>\n",
       "      <td>iMiev02</td>\n",
       "      <td>True</td>\n",
       "      <td>student</td>\n",
       "    </tr>\n",
       "    <tr>\n",
       "      <th>1</th>\n",
       "      <td>140</td>\n",
       "      <td>0</td>\n",
       "      <td>奈良先端科学技術大学院大学 先端科学技術研究科 情報科学領域</td>\n",
       "      <td>2023-04-01 07:20:00</td>\n",
       "      <td>iMiev02</td>\n",
       "      <td>True</td>\n",
       "      <td>student</td>\n",
       "    </tr>\n",
       "    <tr>\n",
       "      <th>2</th>\n",
       "      <td>140</td>\n",
       "      <td>0</td>\n",
       "      <td>奈良先端科学技術大学院大学 先端科学技術研究科 情報科学領域</td>\n",
       "      <td>2023-04-01 08:20:00</td>\n",
       "      <td>iMiev02</td>\n",
       "      <td>True</td>\n",
       "      <td>student</td>\n",
       "    </tr>\n",
       "    <tr>\n",
       "      <th>3</th>\n",
       "      <td>140</td>\n",
       "      <td>0</td>\n",
       "      <td>奈良先端科学技術大学院大学 先端科学技術研究科 情報科学領域</td>\n",
       "      <td>2023-04-01 09:20:00</td>\n",
       "      <td>iMiev02</td>\n",
       "      <td>True</td>\n",
       "      <td>student</td>\n",
       "    </tr>\n",
       "    <tr>\n",
       "      <th>4</th>\n",
       "      <td>140</td>\n",
       "      <td>0</td>\n",
       "      <td>奈良先端科学技術大学院大学 先端科学技術研究科 情報科学領域</td>\n",
       "      <td>2023-04-01 15:16:00</td>\n",
       "      <td>iMiev02</td>\n",
       "      <td>True</td>\n",
       "      <td>student</td>\n",
       "    </tr>\n",
       "    <tr>\n",
       "      <th>...</th>\n",
       "      <td>...</td>\n",
       "      <td>...</td>\n",
       "      <td>...</td>\n",
       "      <td>...</td>\n",
       "      <td>...</td>\n",
       "      <td>...</td>\n",
       "      <td>...</td>\n",
       "    </tr>\n",
       "    <tr>\n",
       "      <th>13879</th>\n",
       "      <td>54</td>\n",
       "      <td>922</td>\n",
       "      <td>餃子の王将 久宝寺店</td>\n",
       "      <td>2023-06-14 18:00:00</td>\n",
       "      <td>LEAF (STAFF ONLY)</td>\n",
       "      <td>False</td>\n",
       "      <td>staff</td>\n",
       "    </tr>\n",
       "    <tr>\n",
       "      <th>13880</th>\n",
       "      <td>167</td>\n",
       "      <td>5</td>\n",
       "      <td>株式会社ATR-Promotions</td>\n",
       "      <td>2023-05-15 15:52:00</td>\n",
       "      <td>BMW (STAFF ONLY)</td>\n",
       "      <td>True</td>\n",
       "      <td>staff</td>\n",
       "    </tr>\n",
       "    <tr>\n",
       "      <th>13881</th>\n",
       "      <td>167</td>\n",
       "      <td>5</td>\n",
       "      <td>株式会社ATR-Promotions</td>\n",
       "      <td>2023-05-15 15:52:00</td>\n",
       "      <td>BMW (STAFF ONLY)</td>\n",
       "      <td>True</td>\n",
       "      <td>staff</td>\n",
       "    </tr>\n",
       "    <tr>\n",
       "      <th>13882</th>\n",
       "      <td>167</td>\n",
       "      <td>1257</td>\n",
       "      <td>山城木津郵便局 集荷</td>\n",
       "      <td>2023-05-15 15:27:00</td>\n",
       "      <td>BMW (STAFF ONLY)</td>\n",
       "      <td>False</td>\n",
       "      <td>staff</td>\n",
       "    </tr>\n",
       "    <tr>\n",
       "      <th>13883</th>\n",
       "      <td>167</td>\n",
       "      <td>1257</td>\n",
       "      <td>山城木津郵便局 集荷</td>\n",
       "      <td>2023-05-15 15:27:00</td>\n",
       "      <td>BMW (STAFF ONLY)</td>\n",
       "      <td>False</td>\n",
       "      <td>staff</td>\n",
       "    </tr>\n",
       "  </tbody>\n",
       "</table>\n",
       "<p>13884 rows × 7 columns</p>\n",
       "</div>"
      ],
      "text/plain": [
       "       user_id  spot_id                       spot_name          created_at  \\\n",
       "0          140        0  奈良先端科学技術大学院大学 先端科学技術研究科 情報科学領域 2023-04-01 06:20:00   \n",
       "1          140        0  奈良先端科学技術大学院大学 先端科学技術研究科 情報科学領域 2023-04-01 07:20:00   \n",
       "2          140        0  奈良先端科学技術大学院大学 先端科学技術研究科 情報科学領域 2023-04-01 08:20:00   \n",
       "3          140        0  奈良先端科学技術大学院大学 先端科学技術研究科 情報科学領域 2023-04-01 09:20:00   \n",
       "4          140        0  奈良先端科学技術大学院大学 先端科学技術研究科 情報科学領域 2023-04-01 15:16:00   \n",
       "...        ...      ...                             ...                 ...   \n",
       "13879       54      922                      餃子の王将 久宝寺店 2023-06-14 18:00:00   \n",
       "13880      167        5              株式会社ATR-Promotions 2023-05-15 15:52:00   \n",
       "13881      167        5              株式会社ATR-Promotions 2023-05-15 15:52:00   \n",
       "13882      167     1257                      山城木津郵便局 集荷 2023-05-15 15:27:00   \n",
       "13883      167     1257                      山城木津郵便局 集荷 2023-05-15 15:27:00   \n",
       "\n",
       "                     car  is_parking user_type  \n",
       "0                iMiev02        True   student  \n",
       "1                iMiev02        True   student  \n",
       "2                iMiev02        True   student  \n",
       "3                iMiev02        True   student  \n",
       "4                iMiev02        True   student  \n",
       "...                  ...         ...       ...  \n",
       "13879  LEAF (STAFF ONLY)       False     staff  \n",
       "13880   BMW (STAFF ONLY)        True     staff  \n",
       "13881   BMW (STAFF ONLY)        True     staff  \n",
       "13882   BMW (STAFF ONLY)       False     staff  \n",
       "13883   BMW (STAFF ONLY)       False     staff  \n",
       "\n",
       "[13884 rows x 7 columns]"
      ]
     },
     "execution_count": 6,
     "metadata": {},
     "output_type": "execute_result"
    }
   ],
   "source": [
    "\"\"\"必要なデータ(user_df)を追加結合\"\"\"\n",
    "merged_df2 = pd.merge(merged_df1, user_df, on=[\"user_id\"])\n",
    "merged_df2"
   ]
  },
  {
   "cell_type": "code",
   "execution_count": 7,
   "metadata": {},
   "outputs": [
    {
     "data": {
      "text/html": [
       "<div>\n",
       "<style scoped>\n",
       "    .dataframe tbody tr th:only-of-type {\n",
       "        vertical-align: middle;\n",
       "    }\n",
       "\n",
       "    .dataframe tbody tr th {\n",
       "        vertical-align: top;\n",
       "    }\n",
       "\n",
       "    .dataframe thead th {\n",
       "        text-align: right;\n",
       "    }\n",
       "</style>\n",
       "<table border=\"1\" class=\"dataframe\">\n",
       "  <thead>\n",
       "    <tr style=\"text-align: right;\">\n",
       "      <th></th>\n",
       "      <th>user_id</th>\n",
       "      <th>spot_id</th>\n",
       "      <th>spot_name</th>\n",
       "      <th>created_at</th>\n",
       "      <th>car</th>\n",
       "      <th>is_parking</th>\n",
       "      <th>user_type</th>\n",
       "    </tr>\n",
       "  </thead>\n",
       "  <tbody>\n",
       "    <tr>\n",
       "      <th>0</th>\n",
       "      <td>140</td>\n",
       "      <td>224</td>\n",
       "      <td>ならファミリー</td>\n",
       "      <td>2023-04-01 10:49:00</td>\n",
       "      <td>iMiev02</td>\n",
       "      <td>False</td>\n",
       "      <td>student</td>\n",
       "    </tr>\n",
       "    <tr>\n",
       "      <th>1</th>\n",
       "      <td>140</td>\n",
       "      <td>224</td>\n",
       "      <td>ならファミリー</td>\n",
       "      <td>2023-04-01 11:24:00</td>\n",
       "      <td>iMiev02</td>\n",
       "      <td>False</td>\n",
       "      <td>student</td>\n",
       "    </tr>\n",
       "    <tr>\n",
       "      <th>2</th>\n",
       "      <td>140</td>\n",
       "      <td>576</td>\n",
       "      <td>センチュリー21フォステール奈良西大寺店</td>\n",
       "      <td>2023-04-01 11:35:00</td>\n",
       "      <td>iMiev02</td>\n",
       "      <td>False</td>\n",
       "      <td>student</td>\n",
       "    </tr>\n",
       "    <tr>\n",
       "      <th>3</th>\n",
       "      <td>140</td>\n",
       "      <td>576</td>\n",
       "      <td>センチュリー21フォステール奈良西大寺店</td>\n",
       "      <td>2023-04-01 12:36:00</td>\n",
       "      <td>iMiev02</td>\n",
       "      <td>False</td>\n",
       "      <td>student</td>\n",
       "    </tr>\n",
       "    <tr>\n",
       "      <th>4</th>\n",
       "      <td>140</td>\n",
       "      <td>576</td>\n",
       "      <td>センチュリー21フォステール奈良西大寺店</td>\n",
       "      <td>2023-04-01 13:12:00</td>\n",
       "      <td>iMiev02</td>\n",
       "      <td>False</td>\n",
       "      <td>student</td>\n",
       "    </tr>\n",
       "    <tr>\n",
       "      <th>...</th>\n",
       "      <td>...</td>\n",
       "      <td>...</td>\n",
       "      <td>...</td>\n",
       "      <td>...</td>\n",
       "      <td>...</td>\n",
       "      <td>...</td>\n",
       "      <td>...</td>\n",
       "    </tr>\n",
       "    <tr>\n",
       "      <th>4317</th>\n",
       "      <td>60</td>\n",
       "      <td>201</td>\n",
       "      <td>EV充電スタンド</td>\n",
       "      <td>2023-12-13 02:36:00</td>\n",
       "      <td>iMiev02</td>\n",
       "      <td>False</td>\n",
       "      <td>student</td>\n",
       "    </tr>\n",
       "    <tr>\n",
       "      <th>4318</th>\n",
       "      <td>60</td>\n",
       "      <td>315</td>\n",
       "      <td>メイプルリーフ薬局生駒店</td>\n",
       "      <td>2023-12-13 02:18:00</td>\n",
       "      <td>iMiev02</td>\n",
       "      <td>False</td>\n",
       "      <td>student</td>\n",
       "    </tr>\n",
       "    <tr>\n",
       "      <th>4319</th>\n",
       "      <td>60</td>\n",
       "      <td>315</td>\n",
       "      <td>メイプルリーフ薬局生駒店</td>\n",
       "      <td>2023-12-15 05:46:00</td>\n",
       "      <td>iMiev02</td>\n",
       "      <td>False</td>\n",
       "      <td>student</td>\n",
       "    </tr>\n",
       "    <tr>\n",
       "      <th>4320</th>\n",
       "      <td>133</td>\n",
       "      <td>919</td>\n",
       "      <td>おかだ歯科クリニック</td>\n",
       "      <td>2023-05-12 10:23:00</td>\n",
       "      <td>SAKURA</td>\n",
       "      <td>False</td>\n",
       "      <td>student</td>\n",
       "    </tr>\n",
       "    <tr>\n",
       "      <th>4321</th>\n",
       "      <td>133</td>\n",
       "      <td>377</td>\n",
       "      <td>ツーリスト企画 高の原営業所</td>\n",
       "      <td>2023-05-12 10:47:00</td>\n",
       "      <td>SAKURA</td>\n",
       "      <td>False</td>\n",
       "      <td>student</td>\n",
       "    </tr>\n",
       "  </tbody>\n",
       "</table>\n",
       "<p>4322 rows × 7 columns</p>\n",
       "</div>"
      ],
      "text/plain": [
       "      user_id  spot_id             spot_name          created_at      car  \\\n",
       "0         140      224               ならファミリー 2023-04-01 10:49:00  iMiev02   \n",
       "1         140      224               ならファミリー 2023-04-01 11:24:00  iMiev02   \n",
       "2         140      576  センチュリー21フォステール奈良西大寺店 2023-04-01 11:35:00  iMiev02   \n",
       "3         140      576  センチュリー21フォステール奈良西大寺店 2023-04-01 12:36:00  iMiev02   \n",
       "4         140      576  センチュリー21フォステール奈良西大寺店 2023-04-01 13:12:00  iMiev02   \n",
       "...       ...      ...                   ...                 ...      ...   \n",
       "4317       60      201              EV充電スタンド 2023-12-13 02:36:00  iMiev02   \n",
       "4318       60      315          メイプルリーフ薬局生駒店 2023-12-13 02:18:00  iMiev02   \n",
       "4319       60      315          メイプルリーフ薬局生駒店 2023-12-15 05:46:00  iMiev02   \n",
       "4320      133      919            おかだ歯科クリニック 2023-05-12 10:23:00   SAKURA   \n",
       "4321      133      377        ツーリスト企画 高の原営業所 2023-05-12 10:47:00   SAKURA   \n",
       "\n",
       "      is_parking user_type  \n",
       "0          False   student  \n",
       "1          False   student  \n",
       "2          False   student  \n",
       "3          False   student  \n",
       "4          False   student  \n",
       "...          ...       ...  \n",
       "4317       False   student  \n",
       "4318       False   student  \n",
       "4319       False   student  \n",
       "4320       False   student  \n",
       "4321       False   student  \n",
       "\n",
       "[4322 rows x 7 columns]"
      ]
     },
     "execution_count": 7,
     "metadata": {},
     "output_type": "execute_result"
    }
   ],
   "source": [
    "\"\"\"データの整形(条件で絞り込む)\"\"\"\n",
    "filtered_df = merged_df2.query('is_parking == False & user_type == \"student\"').dropna().reset_index(drop=True)\n",
    "filtered_df"
   ]
  },
  {
   "cell_type": "code",
   "execution_count": 8,
   "metadata": {},
   "outputs": [
    {
     "data": {
      "text/html": [
       "<div>\n",
       "<style scoped>\n",
       "    .dataframe tbody tr th:only-of-type {\n",
       "        vertical-align: middle;\n",
       "    }\n",
       "\n",
       "    .dataframe tbody tr th {\n",
       "        vertical-align: top;\n",
       "    }\n",
       "\n",
       "    .dataframe thead th {\n",
       "        text-align: right;\n",
       "    }\n",
       "</style>\n",
       "<table border=\"1\" class=\"dataframe\">\n",
       "  <thead>\n",
       "    <tr style=\"text-align: right;\">\n",
       "      <th></th>\n",
       "      <th>user_id</th>\n",
       "      <th>spot_id</th>\n",
       "      <th>spot_name</th>\n",
       "      <th>created_at</th>\n",
       "      <th>car</th>\n",
       "      <th>is_parking</th>\n",
       "      <th>user_type</th>\n",
       "    </tr>\n",
       "  </thead>\n",
       "  <tbody>\n",
       "    <tr>\n",
       "      <th>0</th>\n",
       "      <td>156</td>\n",
       "      <td>23</td>\n",
       "      <td>イオンモール奈良登美ヶ丘</td>\n",
       "      <td>2023-11-16 11:09:00</td>\n",
       "      <td>iMiev02</td>\n",
       "      <td>False</td>\n",
       "      <td>student</td>\n",
       "    </tr>\n",
       "    <tr>\n",
       "      <th>1</th>\n",
       "      <td>156</td>\n",
       "      <td>41</td>\n",
       "      <td>生鮮＆業務スーパーボトルワールドOK 押熊店</td>\n",
       "      <td>2023-11-09 10:30:00</td>\n",
       "      <td>iMiev01</td>\n",
       "      <td>False</td>\n",
       "      <td>student</td>\n",
       "    </tr>\n",
       "    <tr>\n",
       "      <th>2</th>\n",
       "      <td>156</td>\n",
       "      <td>41</td>\n",
       "      <td>生鮮＆業務スーパーボトルワールドOK 押熊店</td>\n",
       "      <td>2023-11-09 11:51:00</td>\n",
       "      <td>iMiev01</td>\n",
       "      <td>False</td>\n",
       "      <td>student</td>\n",
       "    </tr>\n",
       "    <tr>\n",
       "      <th>3</th>\n",
       "      <td>156</td>\n",
       "      <td>337</td>\n",
       "      <td>セブン-イレブン 生駒鹿畑町店</td>\n",
       "      <td>2023-04-03 23:29:00</td>\n",
       "      <td>iMiev01</td>\n",
       "      <td>False</td>\n",
       "      <td>student</td>\n",
       "    </tr>\n",
       "    <tr>\n",
       "      <th>4</th>\n",
       "      <td>156</td>\n",
       "      <td>337</td>\n",
       "      <td>セブン-イレブン 生駒鹿畑町店</td>\n",
       "      <td>2023-04-06 23:45:00</td>\n",
       "      <td>iMiev01</td>\n",
       "      <td>False</td>\n",
       "      <td>student</td>\n",
       "    </tr>\n",
       "    <tr>\n",
       "      <th>...</th>\n",
       "      <td>...</td>\n",
       "      <td>...</td>\n",
       "      <td>...</td>\n",
       "      <td>...</td>\n",
       "      <td>...</td>\n",
       "      <td>...</td>\n",
       "      <td>...</td>\n",
       "    </tr>\n",
       "    <tr>\n",
       "      <th>415</th>\n",
       "      <td>156</td>\n",
       "      <td>329</td>\n",
       "      <td>奈良西警察署 学園前交番</td>\n",
       "      <td>2023-11-22 00:39:00</td>\n",
       "      <td>iMiev02</td>\n",
       "      <td>False</td>\n",
       "      <td>student</td>\n",
       "    </tr>\n",
       "    <tr>\n",
       "      <th>416</th>\n",
       "      <td>156</td>\n",
       "      <td>733</td>\n",
       "      <td>大里会館</td>\n",
       "      <td>2023-09-29 11:57:00</td>\n",
       "      <td>iMiev02</td>\n",
       "      <td>False</td>\n",
       "      <td>student</td>\n",
       "    </tr>\n",
       "    <tr>\n",
       "      <th>417</th>\n",
       "      <td>156</td>\n",
       "      <td>733</td>\n",
       "      <td>大里会館</td>\n",
       "      <td>2023-09-29 12:58:00</td>\n",
       "      <td>iMiev02</td>\n",
       "      <td>False</td>\n",
       "      <td>student</td>\n",
       "    </tr>\n",
       "    <tr>\n",
       "      <th>418</th>\n",
       "      <td>156</td>\n",
       "      <td>384</td>\n",
       "      <td>WAY書店 TSUTAYA奈良押熊店</td>\n",
       "      <td>2023-09-30 00:17:00</td>\n",
       "      <td>iMiev01</td>\n",
       "      <td>False</td>\n",
       "      <td>student</td>\n",
       "    </tr>\n",
       "    <tr>\n",
       "      <th>419</th>\n",
       "      <td>156</td>\n",
       "      <td>540</td>\n",
       "      <td>花仙堂 精華店</td>\n",
       "      <td>2023-11-03 15:53:00</td>\n",
       "      <td>iMiev02</td>\n",
       "      <td>False</td>\n",
       "      <td>student</td>\n",
       "    </tr>\n",
       "  </tbody>\n",
       "</table>\n",
       "<p>420 rows × 7 columns</p>\n",
       "</div>"
      ],
      "text/plain": [
       "     user_id  spot_id               spot_name          created_at      car  \\\n",
       "0        156       23            イオンモール奈良登美ヶ丘 2023-11-16 11:09:00  iMiev02   \n",
       "1        156       41  生鮮＆業務スーパーボトルワールドOK 押熊店 2023-11-09 10:30:00  iMiev01   \n",
       "2        156       41  生鮮＆業務スーパーボトルワールドOK 押熊店 2023-11-09 11:51:00  iMiev01   \n",
       "3        156      337         セブン-イレブン 生駒鹿畑町店 2023-04-03 23:29:00  iMiev01   \n",
       "4        156      337         セブン-イレブン 生駒鹿畑町店 2023-04-06 23:45:00  iMiev01   \n",
       "..       ...      ...                     ...                 ...      ...   \n",
       "415      156      329            奈良西警察署 学園前交番 2023-11-22 00:39:00  iMiev02   \n",
       "416      156      733                    大里会館 2023-09-29 11:57:00  iMiev02   \n",
       "417      156      733                    大里会館 2023-09-29 12:58:00  iMiev02   \n",
       "418      156      384      WAY書店 TSUTAYA奈良押熊店 2023-09-30 00:17:00  iMiev01   \n",
       "419      156      540                 花仙堂 精華店 2023-11-03 15:53:00  iMiev02   \n",
       "\n",
       "     is_parking user_type  \n",
       "0         False   student  \n",
       "1         False   student  \n",
       "2         False   student  \n",
       "3         False   student  \n",
       "4         False   student  \n",
       "..          ...       ...  \n",
       "415       False   student  \n",
       "416       False   student  \n",
       "417       False   student  \n",
       "418       False   student  \n",
       "419       False   student  \n",
       "\n",
       "[420 rows x 7 columns]"
      ]
     },
     "execution_count": 8,
     "metadata": {},
     "output_type": "execute_result"
    }
   ],
   "source": [
    "\"\"\"最も多くの目的地を訪れたユーザーのデータを抽出\"\"\"\n",
    "most_used_user = filtered_df[\"user_id\"].value_counts().index[0]\n",
    "most_used_user_df = filtered_df.query('user_id == @most_used_user').reset_index(drop=True)\n",
    "most_used_user_df"
   ]
  },
  {
   "cell_type": "code",
   "execution_count": 10,
   "metadata": {},
   "outputs": [
    {
     "data": {
      "application/vnd.plotly.v1+json": {
       "config": {
        "plotlyServerURL": "https://plot.ly"
       },
       "data": [
        {
         "domain": {
          "x": [
           0,
           1
          ],
          "y": [
           0,
           1
          ]
         },
         "hovertemplate": "spot_name=%{label}<br>count=%{value}<extra></extra>",
         "labels": [
          "ゆららの湯 押熊店",
          "セブン-イレブン 生駒鹿畑町店",
          "CARBOO",
          "グリーンラボ",
          "イオンモール奈良登美ヶ丘",
          "イオンモール高の原",
          "河童ラーメン本舗 押熊店",
          "ローソン 学研北生駒駅前店",
          "スギ薬局 登美ケ丘店",
          "アノラーメン製作所",
          "ファミリーマート 中登美ヶ丘六丁目店",
          "ビエラタウン けいはんな",
          "高の原駅",
          "ラ・ムー 奈良二名店",
          "天下一品 東生駒店",
          "ジャパン 奈良押熊店",
          "マクドナルド 白庭台店",
          "かつアンドかつ 精華町店",
          "アピタタウンけいはんな",
          "ローソン 奈良押熊町店",
          "餃子の王将 押熊店",
          "サーティワンアイスクリーム 奈良押熊店",
          "ジョイフル 京都精華町店",
          "大里会館",
          "揉みほぐし名家",
          "くら寿司 奈良学園前店",
          "鍜治田クリニック",
          "定食製作所",
          "生鮮＆業務スーパーボトルワールドOK 押熊店",
          "ピザハット ならやま大通り押熊店",
          "BOOKOFF 奈良押熊店",
          "たけうち動物病院",
          "WAY書店 TSUTAYA奈良押熊店",
          "ゆうちょ銀行 大阪支店 ファミリーマート精華光台店内出張所",
          "奈良西警察署 学園前交番",
          "ゆらら亭 押熊店",
          "パリワール村",
          "コスモ石油 セルフ登美ヶ丘 SS (コスモ石油販売大阪カンパニー)",
          "真弓３丁目公園",
          "Honda Cars 奈良中央 高の原店",
          "原歯科医院",
          "幼保連携型認定こども園 生駒ピュアこども園",
          "ユーポス生駒店",
          "学研奈良登美ヶ丘郵便局",
          "齋藤医院",
          "チケパ登美ヶ丘駅前第２駐車場",
          "花仙堂 精華店"
         ],
         "legendgroup": "",
         "name": "",
         "showlegend": true,
         "textinfo": "percent+label",
         "textposition": "inside",
         "type": "pie",
         "values": [
          64,
          58,
          48,
          37,
          26,
          19,
          18,
          18,
          17,
          9,
          9,
          9,
          8,
          7,
          6,
          6,
          6,
          5,
          5,
          5,
          4,
          3,
          2,
          2,
          2,
          2,
          2,
          2,
          2,
          2,
          1,
          1,
          1,
          1,
          1,
          1,
          1,
          1,
          1,
          1,
          1,
          1,
          1,
          1,
          1,
          1,
          1
         ]
        }
       ],
       "layout": {
        "legend": {
         "tracegroupgap": 0
        },
        "template": {
         "data": {
          "bar": [
           {
            "error_x": {
             "color": "#2a3f5f"
            },
            "error_y": {
             "color": "#2a3f5f"
            },
            "marker": {
             "line": {
              "color": "#E5ECF6",
              "width": 0.5
             },
             "pattern": {
              "fillmode": "overlay",
              "size": 10,
              "solidity": 0.2
             }
            },
            "type": "bar"
           }
          ],
          "barpolar": [
           {
            "marker": {
             "line": {
              "color": "#E5ECF6",
              "width": 0.5
             },
             "pattern": {
              "fillmode": "overlay",
              "size": 10,
              "solidity": 0.2
             }
            },
            "type": "barpolar"
           }
          ],
          "carpet": [
           {
            "aaxis": {
             "endlinecolor": "#2a3f5f",
             "gridcolor": "white",
             "linecolor": "white",
             "minorgridcolor": "white",
             "startlinecolor": "#2a3f5f"
            },
            "baxis": {
             "endlinecolor": "#2a3f5f",
             "gridcolor": "white",
             "linecolor": "white",
             "minorgridcolor": "white",
             "startlinecolor": "#2a3f5f"
            },
            "type": "carpet"
           }
          ],
          "choropleth": [
           {
            "colorbar": {
             "outlinewidth": 0,
             "ticks": ""
            },
            "type": "choropleth"
           }
          ],
          "contour": [
           {
            "colorbar": {
             "outlinewidth": 0,
             "ticks": ""
            },
            "colorscale": [
             [
              0,
              "#0d0887"
             ],
             [
              0.1111111111111111,
              "#46039f"
             ],
             [
              0.2222222222222222,
              "#7201a8"
             ],
             [
              0.3333333333333333,
              "#9c179e"
             ],
             [
              0.4444444444444444,
              "#bd3786"
             ],
             [
              0.5555555555555556,
              "#d8576b"
             ],
             [
              0.6666666666666666,
              "#ed7953"
             ],
             [
              0.7777777777777778,
              "#fb9f3a"
             ],
             [
              0.8888888888888888,
              "#fdca26"
             ],
             [
              1,
              "#f0f921"
             ]
            ],
            "type": "contour"
           }
          ],
          "contourcarpet": [
           {
            "colorbar": {
             "outlinewidth": 0,
             "ticks": ""
            },
            "type": "contourcarpet"
           }
          ],
          "heatmap": [
           {
            "colorbar": {
             "outlinewidth": 0,
             "ticks": ""
            },
            "colorscale": [
             [
              0,
              "#0d0887"
             ],
             [
              0.1111111111111111,
              "#46039f"
             ],
             [
              0.2222222222222222,
              "#7201a8"
             ],
             [
              0.3333333333333333,
              "#9c179e"
             ],
             [
              0.4444444444444444,
              "#bd3786"
             ],
             [
              0.5555555555555556,
              "#d8576b"
             ],
             [
              0.6666666666666666,
              "#ed7953"
             ],
             [
              0.7777777777777778,
              "#fb9f3a"
             ],
             [
              0.8888888888888888,
              "#fdca26"
             ],
             [
              1,
              "#f0f921"
             ]
            ],
            "type": "heatmap"
           }
          ],
          "heatmapgl": [
           {
            "colorbar": {
             "outlinewidth": 0,
             "ticks": ""
            },
            "colorscale": [
             [
              0,
              "#0d0887"
             ],
             [
              0.1111111111111111,
              "#46039f"
             ],
             [
              0.2222222222222222,
              "#7201a8"
             ],
             [
              0.3333333333333333,
              "#9c179e"
             ],
             [
              0.4444444444444444,
              "#bd3786"
             ],
             [
              0.5555555555555556,
              "#d8576b"
             ],
             [
              0.6666666666666666,
              "#ed7953"
             ],
             [
              0.7777777777777778,
              "#fb9f3a"
             ],
             [
              0.8888888888888888,
              "#fdca26"
             ],
             [
              1,
              "#f0f921"
             ]
            ],
            "type": "heatmapgl"
           }
          ],
          "histogram": [
           {
            "marker": {
             "pattern": {
              "fillmode": "overlay",
              "size": 10,
              "solidity": 0.2
             }
            },
            "type": "histogram"
           }
          ],
          "histogram2d": [
           {
            "colorbar": {
             "outlinewidth": 0,
             "ticks": ""
            },
            "colorscale": [
             [
              0,
              "#0d0887"
             ],
             [
              0.1111111111111111,
              "#46039f"
             ],
             [
              0.2222222222222222,
              "#7201a8"
             ],
             [
              0.3333333333333333,
              "#9c179e"
             ],
             [
              0.4444444444444444,
              "#bd3786"
             ],
             [
              0.5555555555555556,
              "#d8576b"
             ],
             [
              0.6666666666666666,
              "#ed7953"
             ],
             [
              0.7777777777777778,
              "#fb9f3a"
             ],
             [
              0.8888888888888888,
              "#fdca26"
             ],
             [
              1,
              "#f0f921"
             ]
            ],
            "type": "histogram2d"
           }
          ],
          "histogram2dcontour": [
           {
            "colorbar": {
             "outlinewidth": 0,
             "ticks": ""
            },
            "colorscale": [
             [
              0,
              "#0d0887"
             ],
             [
              0.1111111111111111,
              "#46039f"
             ],
             [
              0.2222222222222222,
              "#7201a8"
             ],
             [
              0.3333333333333333,
              "#9c179e"
             ],
             [
              0.4444444444444444,
              "#bd3786"
             ],
             [
              0.5555555555555556,
              "#d8576b"
             ],
             [
              0.6666666666666666,
              "#ed7953"
             ],
             [
              0.7777777777777778,
              "#fb9f3a"
             ],
             [
              0.8888888888888888,
              "#fdca26"
             ],
             [
              1,
              "#f0f921"
             ]
            ],
            "type": "histogram2dcontour"
           }
          ],
          "mesh3d": [
           {
            "colorbar": {
             "outlinewidth": 0,
             "ticks": ""
            },
            "type": "mesh3d"
           }
          ],
          "parcoords": [
           {
            "line": {
             "colorbar": {
              "outlinewidth": 0,
              "ticks": ""
             }
            },
            "type": "parcoords"
           }
          ],
          "pie": [
           {
            "automargin": true,
            "type": "pie"
           }
          ],
          "scatter": [
           {
            "fillpattern": {
             "fillmode": "overlay",
             "size": 10,
             "solidity": 0.2
            },
            "type": "scatter"
           }
          ],
          "scatter3d": [
           {
            "line": {
             "colorbar": {
              "outlinewidth": 0,
              "ticks": ""
             }
            },
            "marker": {
             "colorbar": {
              "outlinewidth": 0,
              "ticks": ""
             }
            },
            "type": "scatter3d"
           }
          ],
          "scattercarpet": [
           {
            "marker": {
             "colorbar": {
              "outlinewidth": 0,
              "ticks": ""
             }
            },
            "type": "scattercarpet"
           }
          ],
          "scattergeo": [
           {
            "marker": {
             "colorbar": {
              "outlinewidth": 0,
              "ticks": ""
             }
            },
            "type": "scattergeo"
           }
          ],
          "scattergl": [
           {
            "marker": {
             "colorbar": {
              "outlinewidth": 0,
              "ticks": ""
             }
            },
            "type": "scattergl"
           }
          ],
          "scattermapbox": [
           {
            "marker": {
             "colorbar": {
              "outlinewidth": 0,
              "ticks": ""
             }
            },
            "type": "scattermapbox"
           }
          ],
          "scatterpolar": [
           {
            "marker": {
             "colorbar": {
              "outlinewidth": 0,
              "ticks": ""
             }
            },
            "type": "scatterpolar"
           }
          ],
          "scatterpolargl": [
           {
            "marker": {
             "colorbar": {
              "outlinewidth": 0,
              "ticks": ""
             }
            },
            "type": "scatterpolargl"
           }
          ],
          "scatterternary": [
           {
            "marker": {
             "colorbar": {
              "outlinewidth": 0,
              "ticks": ""
             }
            },
            "type": "scatterternary"
           }
          ],
          "surface": [
           {
            "colorbar": {
             "outlinewidth": 0,
             "ticks": ""
            },
            "colorscale": [
             [
              0,
              "#0d0887"
             ],
             [
              0.1111111111111111,
              "#46039f"
             ],
             [
              0.2222222222222222,
              "#7201a8"
             ],
             [
              0.3333333333333333,
              "#9c179e"
             ],
             [
              0.4444444444444444,
              "#bd3786"
             ],
             [
              0.5555555555555556,
              "#d8576b"
             ],
             [
              0.6666666666666666,
              "#ed7953"
             ],
             [
              0.7777777777777778,
              "#fb9f3a"
             ],
             [
              0.8888888888888888,
              "#fdca26"
             ],
             [
              1,
              "#f0f921"
             ]
            ],
            "type": "surface"
           }
          ],
          "table": [
           {
            "cells": {
             "fill": {
              "color": "#EBF0F8"
             },
             "line": {
              "color": "white"
             }
            },
            "header": {
             "fill": {
              "color": "#C8D4E3"
             },
             "line": {
              "color": "white"
             }
            },
            "type": "table"
           }
          ]
         },
         "layout": {
          "annotationdefaults": {
           "arrowcolor": "#2a3f5f",
           "arrowhead": 0,
           "arrowwidth": 1
          },
          "autotypenumbers": "strict",
          "coloraxis": {
           "colorbar": {
            "outlinewidth": 0,
            "ticks": ""
           }
          },
          "colorscale": {
           "diverging": [
            [
             0,
             "#8e0152"
            ],
            [
             0.1,
             "#c51b7d"
            ],
            [
             0.2,
             "#de77ae"
            ],
            [
             0.3,
             "#f1b6da"
            ],
            [
             0.4,
             "#fde0ef"
            ],
            [
             0.5,
             "#f7f7f7"
            ],
            [
             0.6,
             "#e6f5d0"
            ],
            [
             0.7,
             "#b8e186"
            ],
            [
             0.8,
             "#7fbc41"
            ],
            [
             0.9,
             "#4d9221"
            ],
            [
             1,
             "#276419"
            ]
           ],
           "sequential": [
            [
             0,
             "#0d0887"
            ],
            [
             0.1111111111111111,
             "#46039f"
            ],
            [
             0.2222222222222222,
             "#7201a8"
            ],
            [
             0.3333333333333333,
             "#9c179e"
            ],
            [
             0.4444444444444444,
             "#bd3786"
            ],
            [
             0.5555555555555556,
             "#d8576b"
            ],
            [
             0.6666666666666666,
             "#ed7953"
            ],
            [
             0.7777777777777778,
             "#fb9f3a"
            ],
            [
             0.8888888888888888,
             "#fdca26"
            ],
            [
             1,
             "#f0f921"
            ]
           ],
           "sequentialminus": [
            [
             0,
             "#0d0887"
            ],
            [
             0.1111111111111111,
             "#46039f"
            ],
            [
             0.2222222222222222,
             "#7201a8"
            ],
            [
             0.3333333333333333,
             "#9c179e"
            ],
            [
             0.4444444444444444,
             "#bd3786"
            ],
            [
             0.5555555555555556,
             "#d8576b"
            ],
            [
             0.6666666666666666,
             "#ed7953"
            ],
            [
             0.7777777777777778,
             "#fb9f3a"
            ],
            [
             0.8888888888888888,
             "#fdca26"
            ],
            [
             1,
             "#f0f921"
            ]
           ]
          },
          "colorway": [
           "#636efa",
           "#EF553B",
           "#00cc96",
           "#ab63fa",
           "#FFA15A",
           "#19d3f3",
           "#FF6692",
           "#B6E880",
           "#FF97FF",
           "#FECB52"
          ],
          "font": {
           "color": "#2a3f5f"
          },
          "geo": {
           "bgcolor": "white",
           "lakecolor": "white",
           "landcolor": "#E5ECF6",
           "showlakes": true,
           "showland": true,
           "subunitcolor": "white"
          },
          "hoverlabel": {
           "align": "left"
          },
          "hovermode": "closest",
          "mapbox": {
           "style": "light"
          },
          "paper_bgcolor": "white",
          "plot_bgcolor": "#E5ECF6",
          "polar": {
           "angularaxis": {
            "gridcolor": "white",
            "linecolor": "white",
            "ticks": ""
           },
           "bgcolor": "#E5ECF6",
           "radialaxis": {
            "gridcolor": "white",
            "linecolor": "white",
            "ticks": ""
           }
          },
          "scene": {
           "xaxis": {
            "backgroundcolor": "#E5ECF6",
            "gridcolor": "white",
            "gridwidth": 2,
            "linecolor": "white",
            "showbackground": true,
            "ticks": "",
            "zerolinecolor": "white"
           },
           "yaxis": {
            "backgroundcolor": "#E5ECF6",
            "gridcolor": "white",
            "gridwidth": 2,
            "linecolor": "white",
            "showbackground": true,
            "ticks": "",
            "zerolinecolor": "white"
           },
           "zaxis": {
            "backgroundcolor": "#E5ECF6",
            "gridcolor": "white",
            "gridwidth": 2,
            "linecolor": "white",
            "showbackground": true,
            "ticks": "",
            "zerolinecolor": "white"
           }
          },
          "shapedefaults": {
           "line": {
            "color": "#2a3f5f"
           }
          },
          "ternary": {
           "aaxis": {
            "gridcolor": "white",
            "linecolor": "white",
            "ticks": ""
           },
           "baxis": {
            "gridcolor": "white",
            "linecolor": "white",
            "ticks": ""
           },
           "bgcolor": "#E5ECF6",
           "caxis": {
            "gridcolor": "white",
            "linecolor": "white",
            "ticks": ""
           }
          },
          "title": {
           "x": 0.05
          },
          "xaxis": {
           "automargin": true,
           "gridcolor": "white",
           "linecolor": "white",
           "ticks": "",
           "title": {
            "standoff": 15
           },
           "zerolinecolor": "white",
           "zerolinewidth": 2
          },
          "yaxis": {
           "automargin": true,
           "gridcolor": "white",
           "linecolor": "white",
           "ticks": "",
           "title": {
            "standoff": 15
           },
           "zerolinecolor": "white",
           "zerolinewidth": 2
          }
         }
        },
        "title": {
         "text": "学生が訪れた目的地のランキング"
        }
       }
      }
     },
     "metadata": {},
     "output_type": "display_data"
    }
   ],
   "source": [
    "\"\"\"spot_nameを集計して、円グラフにする\"\"\"\n",
    "import plotly.express as px\n",
    "most_used_user_spot_df = most_used_user_df[\"spot_name\"].value_counts().reset_index()\n",
    "most_used_user_spot_df.columns = [\"spot_name\", \"count\"]\n",
    "fig = px.pie(most_used_user_spot_df, values=\"count\", names=\"spot_name\", title=\"学生が訪れた目的地のランキング\")\n",
    "fig.update_traces(textposition='inside', textinfo='percent+label') \n",
    "fig.show()"
   ]
  },
  {
   "cell_type": "code",
   "execution_count": null,
   "metadata": {},
   "outputs": [],
   "source": []
  }
 ],
 "metadata": {
  "kernelspec": {
   "display_name": "Python 3",
   "language": "python",
   "name": "python3"
  },
  "language_info": {
   "codemirror_mode": {
    "name": "ipython",
    "version": 3
   },
   "file_extension": ".py",
   "mimetype": "text/x-python",
   "name": "python",
   "nbconvert_exporter": "python",
   "pygments_lexer": "ipython3",
   "version": "3.9.10"
  }
 },
 "nbformat": 4,
 "nbformat_minor": 2
}
