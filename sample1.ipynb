{
 "cells": [
  {
   "cell_type": "code",
   "execution_count": 1,
   "metadata": {},
   "outputs": [
    {
     "data": {
      "text/html": [
       "<div>\n",
       "<style scoped>\n",
       "    .dataframe tbody tr th:only-of-type {\n",
       "        vertical-align: middle;\n",
       "    }\n",
       "\n",
       "    .dataframe tbody tr th {\n",
       "        vertical-align: top;\n",
       "    }\n",
       "\n",
       "    .dataframe thead th {\n",
       "        text-align: right;\n",
       "    }\n",
       "</style>\n",
       "<table border=\"1\" class=\"dataframe\">\n",
       "  <thead>\n",
       "    <tr style=\"text-align: right;\">\n",
       "      <th></th>\n",
       "      <th>spot_id</th>\n",
       "      <th>spot_name</th>\n",
       "      <th>lat</th>\n",
       "      <th>lon</th>\n",
       "      <th>count</th>\n",
       "      <th>spot_types</th>\n",
       "      <th>is_parking</th>\n",
       "    </tr>\n",
       "  </thead>\n",
       "  <tbody>\n",
       "    <tr>\n",
       "      <th>0</th>\n",
       "      <td>0</td>\n",
       "      <td>奈良先端科学技術大学院大学 先端科学技術研究科 情報科学領域</td>\n",
       "      <td>34.731630</td>\n",
       "      <td>135.734690</td>\n",
       "      <td>16466</td>\n",
       "      <td>[university, point_of_interest, establishment]</td>\n",
       "      <td>True</td>\n",
       "    </tr>\n",
       "    <tr>\n",
       "      <th>1</th>\n",
       "      <td>1</td>\n",
       "      <td>学際融合領域研究棟２号館</td>\n",
       "      <td>34.732260</td>\n",
       "      <td>135.732430</td>\n",
       "      <td>5665</td>\n",
       "      <td>[university, point_of_interest, establishment]</td>\n",
       "      <td>True</td>\n",
       "    </tr>\n",
       "    <tr>\n",
       "      <th>2</th>\n",
       "      <td>2</td>\n",
       "      <td>物質創成科学領域E棟</td>\n",
       "      <td>34.730270</td>\n",
       "      <td>135.733930</td>\n",
       "      <td>5268</td>\n",
       "      <td>[university, point_of_interest, establishment]</td>\n",
       "      <td>True</td>\n",
       "    </tr>\n",
       "    <tr>\n",
       "      <th>3</th>\n",
       "      <td>3</td>\n",
       "      <td>学際融合領域研究棟1号館</td>\n",
       "      <td>34.730930</td>\n",
       "      <td>135.735370</td>\n",
       "      <td>4056</td>\n",
       "      <td>[university, point_of_interest, establishment]</td>\n",
       "      <td>True</td>\n",
       "    </tr>\n",
       "    <tr>\n",
       "      <th>4</th>\n",
       "      <td>4</td>\n",
       "      <td>学研奈良登美ヶ丘駅</td>\n",
       "      <td>34.726800</td>\n",
       "      <td>135.754380</td>\n",
       "      <td>3829</td>\n",
       "      <td>[spa, point_of_interest, establishment]</td>\n",
       "      <td>True</td>\n",
       "    </tr>\n",
       "    <tr>\n",
       "      <th>...</th>\n",
       "      <td>...</td>\n",
       "      <td>...</td>\n",
       "      <td>...</td>\n",
       "      <td>...</td>\n",
       "      <td>...</td>\n",
       "      <td>...</td>\n",
       "      <td>...</td>\n",
       "    </tr>\n",
       "    <tr>\n",
       "      <th>1362</th>\n",
       "      <td>1362</td>\n",
       "      <td>あずやん株式会社 本社</td>\n",
       "      <td>34.706371</td>\n",
       "      <td>135.698295</td>\n",
       "      <td>1</td>\n",
       "      <td>[point_of_interest, establishment]</td>\n",
       "      <td>False</td>\n",
       "    </tr>\n",
       "    <tr>\n",
       "      <th>1363</th>\n",
       "      <td>1363</td>\n",
       "      <td>こどものアトリエやまとぐみ</td>\n",
       "      <td>34.727695</td>\n",
       "      <td>135.727906</td>\n",
       "      <td>1</td>\n",
       "      <td>[point_of_interest, establishment]</td>\n",
       "      <td>False</td>\n",
       "    </tr>\n",
       "    <tr>\n",
       "      <th>1364</th>\n",
       "      <td>1364</td>\n",
       "      <td>ナチュラルゴルフレッスンスタジオ</td>\n",
       "      <td>34.712178</td>\n",
       "      <td>135.747856</td>\n",
       "      <td>1</td>\n",
       "      <td>[health, point_of_interest, establishment]</td>\n",
       "      <td>False</td>\n",
       "    </tr>\n",
       "    <tr>\n",
       "      <th>1365</th>\n",
       "      <td>1365</td>\n",
       "      <td>ラフェマリカ</td>\n",
       "      <td>34.717390</td>\n",
       "      <td>135.786221</td>\n",
       "      <td>1</td>\n",
       "      <td>[bakery, store, food, point_of_interest, estab...</td>\n",
       "      <td>False</td>\n",
       "    </tr>\n",
       "    <tr>\n",
       "      <th>1366</th>\n",
       "      <td>1366</td>\n",
       "      <td>黒添西池</td>\n",
       "      <td>34.762436</td>\n",
       "      <td>135.711761</td>\n",
       "      <td>1</td>\n",
       "      <td>[park, point_of_interest, establishment]</td>\n",
       "      <td>False</td>\n",
       "    </tr>\n",
       "  </tbody>\n",
       "</table>\n",
       "<p>1367 rows × 7 columns</p>\n",
       "</div>"
      ],
      "text/plain": [
       "      spot_id                       spot_name        lat         lon  count  \\\n",
       "0           0  奈良先端科学技術大学院大学 先端科学技術研究科 情報科学領域  34.731630  135.734690  16466   \n",
       "1           1                    学際融合領域研究棟２号館  34.732260  135.732430   5665   \n",
       "2           2                      物質創成科学領域E棟  34.730270  135.733930   5268   \n",
       "3           3                    学際融合領域研究棟1号館  34.730930  135.735370   4056   \n",
       "4           4                       学研奈良登美ヶ丘駅  34.726800  135.754380   3829   \n",
       "...       ...                             ...        ...         ...    ...   \n",
       "1362     1362                     あずやん株式会社 本社  34.706371  135.698295      1   \n",
       "1363     1363                   こどものアトリエやまとぐみ  34.727695  135.727906      1   \n",
       "1364     1364                ナチュラルゴルフレッスンスタジオ  34.712178  135.747856      1   \n",
       "1365     1365                          ラフェマリカ  34.717390  135.786221      1   \n",
       "1366     1366                            黒添西池  34.762436  135.711761      1   \n",
       "\n",
       "                                             spot_types  is_parking  \n",
       "0        [university, point_of_interest, establishment]        True  \n",
       "1        [university, point_of_interest, establishment]        True  \n",
       "2        [university, point_of_interest, establishment]        True  \n",
       "3        [university, point_of_interest, establishment]        True  \n",
       "4               [spa, point_of_interest, establishment]        True  \n",
       "...                                                 ...         ...  \n",
       "1362                 [point_of_interest, establishment]       False  \n",
       "1363                 [point_of_interest, establishment]       False  \n",
       "1364         [health, point_of_interest, establishment]       False  \n",
       "1365  [bakery, store, food, point_of_interest, estab...       False  \n",
       "1366           [park, point_of_interest, establishment]       False  \n",
       "\n",
       "[1367 rows x 7 columns]"
      ]
     },
     "execution_count": 1,
     "metadata": {},
     "output_type": "execute_result"
    }
   ],
   "source": [
    "import json\n",
    "import pandas as pd\n",
    "\n",
    "spot_df = pd.read_csv(\"./spot.csv\")\n",
    "history_df = pd.read_csv(\"./history.csv\", parse_dates=[\"started_at\", \"ended_at\"])\n",
    "trip_df = pd.read_csv(\"./trip.csv\", parse_dates=[\"created_at\"])\n",
    "user_df = pd.read_csv(\"./user.csv\")\n",
    "\n",
    "spot_df[\"spot_types\"] = spot_df[\"spot_types\"].map(json.loads)\n",
    "\n",
    "spot_df\n"
   ]
  },
  {
   "cell_type": "code",
   "execution_count": 2,
   "metadata": {},
   "outputs": [
    {
     "data": {
      "text/html": [
       "<div>\n",
       "<style scoped>\n",
       "    .dataframe tbody tr th:only-of-type {\n",
       "        vertical-align: middle;\n",
       "    }\n",
       "\n",
       "    .dataframe tbody tr th {\n",
       "        vertical-align: top;\n",
       "    }\n",
       "\n",
       "    .dataframe thead th {\n",
       "        text-align: right;\n",
       "    }\n",
       "</style>\n",
       "<table border=\"1\" class=\"dataframe\">\n",
       "  <thead>\n",
       "    <tr style=\"text-align: right;\">\n",
       "      <th></th>\n",
       "      <th>history_id</th>\n",
       "      <th>started_at</th>\n",
       "      <th>ended_at</th>\n",
       "      <th>from_parking_lot</th>\n",
       "      <th>to_parking_lot</th>\n",
       "      <th>car</th>\n",
       "      <th>passengers_count</th>\n",
       "      <th>distance</th>\n",
       "      <th>user_id</th>\n",
       "    </tr>\n",
       "  </thead>\n",
       "  <tbody>\n",
       "    <tr>\n",
       "      <th>0</th>\n",
       "      <td>202304_0</td>\n",
       "      <td>2023-04-01 02:13:00</td>\n",
       "      <td>2023-04-01 02:25:00</td>\n",
       "      <td>NAIST</td>\n",
       "      <td>NAIST</td>\n",
       "      <td>LEAF (STAFF ONLY)</td>\n",
       "      <td>1</td>\n",
       "      <td>-</td>\n",
       "      <td>130</td>\n",
       "    </tr>\n",
       "    <tr>\n",
       "      <th>1</th>\n",
       "      <td>202304_1</td>\n",
       "      <td>2023-04-01 05:44:00</td>\n",
       "      <td>2023-04-01 16:35:00</td>\n",
       "      <td>NAIST</td>\n",
       "      <td>NAIST</td>\n",
       "      <td>iMiev02</td>\n",
       "      <td>1</td>\n",
       "      <td>22.751227261674426</td>\n",
       "      <td>140</td>\n",
       "    </tr>\n",
       "    <tr>\n",
       "      <th>2</th>\n",
       "      <td>202304_2</td>\n",
       "      <td>2023-04-01 07:55:00</td>\n",
       "      <td>2023-04-01 10:38:00</td>\n",
       "      <td>NAIST</td>\n",
       "      <td>KEIHANA</td>\n",
       "      <td>LEAF (STAFF ONLY)</td>\n",
       "      <td>2</td>\n",
       "      <td>52.975722618365566</td>\n",
       "      <td>122</td>\n",
       "    </tr>\n",
       "    <tr>\n",
       "      <th>3</th>\n",
       "      <td>202304_3</td>\n",
       "      <td>2023-04-01 09:01:00</td>\n",
       "      <td>2023-04-01 11:24:00</td>\n",
       "      <td>NAIST</td>\n",
       "      <td>STATION</td>\n",
       "      <td>iMiev01</td>\n",
       "      <td>1</td>\n",
       "      <td>2.567993419320244</td>\n",
       "      <td>149</td>\n",
       "    </tr>\n",
       "    <tr>\n",
       "      <th>4</th>\n",
       "      <td>202304_4</td>\n",
       "      <td>2023-04-01 10:41:00</td>\n",
       "      <td>2023-04-01 13:18:00</td>\n",
       "      <td>KEIHANA</td>\n",
       "      <td>KEIHANA</td>\n",
       "      <td>LEAF (STAFF ONLY)</td>\n",
       "      <td>1</td>\n",
       "      <td>1.2047719580799798</td>\n",
       "      <td>122</td>\n",
       "    </tr>\n",
       "    <tr>\n",
       "      <th>...</th>\n",
       "      <td>...</td>\n",
       "      <td>...</td>\n",
       "      <td>...</td>\n",
       "      <td>...</td>\n",
       "      <td>...</td>\n",
       "      <td>...</td>\n",
       "      <td>...</td>\n",
       "      <td>...</td>\n",
       "      <td>...</td>\n",
       "    </tr>\n",
       "    <tr>\n",
       "      <th>3367</th>\n",
       "      <td>202403_76</td>\n",
       "      <td>2024-03-30 22:00:00</td>\n",
       "      <td>2024-03-31 00:14:00</td>\n",
       "      <td>NAIST</td>\n",
       "      <td>NAIST</td>\n",
       "      <td>SAKURA1</td>\n",
       "      <td>2</td>\n",
       "      <td>0.0</td>\n",
       "      <td>176</td>\n",
       "    </tr>\n",
       "    <tr>\n",
       "      <th>3368</th>\n",
       "      <td>202403_77</td>\n",
       "      <td>2024-03-31 02:00:00</td>\n",
       "      <td>2024-03-31 02:54:00</td>\n",
       "      <td>NAIST</td>\n",
       "      <td>NAIST</td>\n",
       "      <td>SAKURA1</td>\n",
       "      <td>1</td>\n",
       "      <td>0.0</td>\n",
       "      <td>182</td>\n",
       "    </tr>\n",
       "    <tr>\n",
       "      <th>3369</th>\n",
       "      <td>202403_78</td>\n",
       "      <td>2024-03-31 07:01:00</td>\n",
       "      <td>2024-03-31 19:34:00</td>\n",
       "      <td>NAIST</td>\n",
       "      <td>NAIST</td>\n",
       "      <td>SAKURA1</td>\n",
       "      <td>3</td>\n",
       "      <td>0.0</td>\n",
       "      <td>197</td>\n",
       "    </tr>\n",
       "    <tr>\n",
       "      <th>3370</th>\n",
       "      <td>202403_79</td>\n",
       "      <td>2024-03-31 20:06:00</td>\n",
       "      <td>2024-03-31 21:06:00</td>\n",
       "      <td>NAIST</td>\n",
       "      <td>NAIST</td>\n",
       "      <td>SAKURA1</td>\n",
       "      <td>1</td>\n",
       "      <td>0.0</td>\n",
       "      <td>118</td>\n",
       "    </tr>\n",
       "    <tr>\n",
       "      <th>3371</th>\n",
       "      <td>202403_80</td>\n",
       "      <td>2024-03-31 21:42:00</td>\n",
       "      <td>2024-03-31 23:03:00</td>\n",
       "      <td>NAIST</td>\n",
       "      <td>NAIST</td>\n",
       "      <td>SAKURA1</td>\n",
       "      <td>0</td>\n",
       "      <td>0.0</td>\n",
       "      <td>192</td>\n",
       "    </tr>\n",
       "  </tbody>\n",
       "</table>\n",
       "<p>3372 rows × 9 columns</p>\n",
       "</div>"
      ],
      "text/plain": [
       "     history_id          started_at            ended_at from_parking_lot  \\\n",
       "0      202304_0 2023-04-01 02:13:00 2023-04-01 02:25:00            NAIST   \n",
       "1      202304_1 2023-04-01 05:44:00 2023-04-01 16:35:00            NAIST   \n",
       "2      202304_2 2023-04-01 07:55:00 2023-04-01 10:38:00            NAIST   \n",
       "3      202304_3 2023-04-01 09:01:00 2023-04-01 11:24:00            NAIST   \n",
       "4      202304_4 2023-04-01 10:41:00 2023-04-01 13:18:00          KEIHANA   \n",
       "...         ...                 ...                 ...              ...   \n",
       "3367  202403_76 2024-03-30 22:00:00 2024-03-31 00:14:00            NAIST   \n",
       "3368  202403_77 2024-03-31 02:00:00 2024-03-31 02:54:00            NAIST   \n",
       "3369  202403_78 2024-03-31 07:01:00 2024-03-31 19:34:00            NAIST   \n",
       "3370  202403_79 2024-03-31 20:06:00 2024-03-31 21:06:00            NAIST   \n",
       "3371  202403_80 2024-03-31 21:42:00 2024-03-31 23:03:00            NAIST   \n",
       "\n",
       "     to_parking_lot                car  passengers_count            distance  \\\n",
       "0             NAIST  LEAF (STAFF ONLY)                 1                   -   \n",
       "1             NAIST            iMiev02                 1  22.751227261674426   \n",
       "2           KEIHANA  LEAF (STAFF ONLY)                 2  52.975722618365566   \n",
       "3           STATION            iMiev01                 1   2.567993419320244   \n",
       "4           KEIHANA  LEAF (STAFF ONLY)                 1  1.2047719580799798   \n",
       "...             ...                ...               ...                 ...   \n",
       "3367          NAIST            SAKURA1                 2                 0.0   \n",
       "3368          NAIST            SAKURA1                 1                 0.0   \n",
       "3369          NAIST            SAKURA1                 3                 0.0   \n",
       "3370          NAIST            SAKURA1                 1                 0.0   \n",
       "3371          NAIST            SAKURA1                 0                 0.0   \n",
       "\n",
       "      user_id  \n",
       "0         130  \n",
       "1         140  \n",
       "2         122  \n",
       "3         149  \n",
       "4         122  \n",
       "...       ...  \n",
       "3367      176  \n",
       "3368      182  \n",
       "3369      197  \n",
       "3370      118  \n",
       "3371      192  \n",
       "\n",
       "[3372 rows x 9 columns]"
      ]
     },
     "execution_count": 2,
     "metadata": {},
     "output_type": "execute_result"
    }
   ],
   "source": [
    "history_df\n"
   ]
  },
  {
   "cell_type": "code",
   "execution_count": 3,
   "metadata": {},
   "outputs": [
    {
     "name": "stdout",
     "output_type": "stream",
     "text": [
      "6\n"
     ]
    },
    {
     "data": {
      "text/html": [
       "<div>\n",
       "<style scoped>\n",
       "    .dataframe tbody tr th:only-of-type {\n",
       "        vertical-align: middle;\n",
       "    }\n",
       "\n",
       "    .dataframe tbody tr th {\n",
       "        vertical-align: top;\n",
       "    }\n",
       "\n",
       "    .dataframe thead th {\n",
       "        text-align: right;\n",
       "    }\n",
       "</style>\n",
       "<table border=\"1\" class=\"dataframe\">\n",
       "  <thead>\n",
       "    <tr style=\"text-align: right;\">\n",
       "      <th></th>\n",
       "      <th>created_at</th>\n",
       "      <th>lat</th>\n",
       "      <th>lon</th>\n",
       "      <th>car</th>\n",
       "      <th>user_id</th>\n",
       "      <th>spot_id</th>\n",
       "      <th>history_id</th>\n",
       "    </tr>\n",
       "  </thead>\n",
       "  <tbody>\n",
       "    <tr>\n",
       "      <th>0</th>\n",
       "      <td>2023-04-01 06:20:00</td>\n",
       "      <td>34.731593</td>\n",
       "      <td>135.734878</td>\n",
       "      <td>iMiev02</td>\n",
       "      <td>140</td>\n",
       "      <td>0</td>\n",
       "      <td>202304_1</td>\n",
       "    </tr>\n",
       "    <tr>\n",
       "      <th>1</th>\n",
       "      <td>2023-04-01 07:20:00</td>\n",
       "      <td>34.731593</td>\n",
       "      <td>135.734878</td>\n",
       "      <td>iMiev02</td>\n",
       "      <td>140</td>\n",
       "      <td>0</td>\n",
       "      <td>202304_1</td>\n",
       "    </tr>\n",
       "    <tr>\n",
       "      <th>2</th>\n",
       "      <td>2023-04-01 08:20:00</td>\n",
       "      <td>34.731593</td>\n",
       "      <td>135.734878</td>\n",
       "      <td>iMiev02</td>\n",
       "      <td>140</td>\n",
       "      <td>0</td>\n",
       "      <td>202304_1</td>\n",
       "    </tr>\n",
       "    <tr>\n",
       "      <th>3</th>\n",
       "      <td>2023-04-01 09:20:00</td>\n",
       "      <td>34.731593</td>\n",
       "      <td>135.734878</td>\n",
       "      <td>iMiev02</td>\n",
       "      <td>140</td>\n",
       "      <td>0</td>\n",
       "      <td>202304_1</td>\n",
       "    </tr>\n",
       "    <tr>\n",
       "      <th>4</th>\n",
       "      <td>2023-04-01 09:32:00</td>\n",
       "      <td>35.050930</td>\n",
       "      <td>135.552915</td>\n",
       "      <td>LEAF (STAFF ONLY)</td>\n",
       "      <td>122</td>\n",
       "      <td>1280</td>\n",
       "      <td>202304_2</td>\n",
       "    </tr>\n",
       "    <tr>\n",
       "      <th>...</th>\n",
       "      <td>...</td>\n",
       "      <td>...</td>\n",
       "      <td>...</td>\n",
       "      <td>...</td>\n",
       "      <td>...</td>\n",
       "      <td>...</td>\n",
       "      <td>...</td>\n",
       "    </tr>\n",
       "    <tr>\n",
       "      <th>13776</th>\n",
       "      <td>2024-02-29 19:51:00</td>\n",
       "      <td>34.714703</td>\n",
       "      <td>135.772463</td>\n",
       "      <td>SAKURA</td>\n",
       "      <td>194</td>\n",
       "      <td>751</td>\n",
       "      <td>202402_68</td>\n",
       "    </tr>\n",
       "    <tr>\n",
       "      <th>13777</th>\n",
       "      <td>2024-02-29 19:54:00</td>\n",
       "      <td>34.718375</td>\n",
       "      <td>135.772172</td>\n",
       "      <td>SAKURA</td>\n",
       "      <td>194</td>\n",
       "      <td>41</td>\n",
       "      <td>202402_68</td>\n",
       "    </tr>\n",
       "    <tr>\n",
       "      <th>13778</th>\n",
       "      <td>2024-02-29 20:37:00</td>\n",
       "      <td>34.731574</td>\n",
       "      <td>135.735002</td>\n",
       "      <td>SAKURA</td>\n",
       "      <td>194</td>\n",
       "      <td>0</td>\n",
       "      <td>202402_68</td>\n",
       "    </tr>\n",
       "    <tr>\n",
       "      <th>13779</th>\n",
       "      <td>2024-02-29 20:45:00</td>\n",
       "      <td>34.731618</td>\n",
       "      <td>135.734950</td>\n",
       "      <td>SAKURA</td>\n",
       "      <td>194</td>\n",
       "      <td>0</td>\n",
       "      <td>202402_68</td>\n",
       "    </tr>\n",
       "    <tr>\n",
       "      <th>13780</th>\n",
       "      <td>2024-02-29 20:49:00</td>\n",
       "      <td>34.731618</td>\n",
       "      <td>135.734946</td>\n",
       "      <td>SAKURA</td>\n",
       "      <td>194</td>\n",
       "      <td>0</td>\n",
       "      <td>202402_68</td>\n",
       "    </tr>\n",
       "  </tbody>\n",
       "</table>\n",
       "<p>13781 rows × 7 columns</p>\n",
       "</div>"
      ],
      "text/plain": [
       "               created_at        lat         lon                car  user_id  \\\n",
       "0     2023-04-01 06:20:00  34.731593  135.734878            iMiev02      140   \n",
       "1     2023-04-01 07:20:00  34.731593  135.734878            iMiev02      140   \n",
       "2     2023-04-01 08:20:00  34.731593  135.734878            iMiev02      140   \n",
       "3     2023-04-01 09:20:00  34.731593  135.734878            iMiev02      140   \n",
       "4     2023-04-01 09:32:00  35.050930  135.552915  LEAF (STAFF ONLY)      122   \n",
       "...                   ...        ...         ...                ...      ...   \n",
       "13776 2024-02-29 19:51:00  34.714703  135.772463             SAKURA      194   \n",
       "13777 2024-02-29 19:54:00  34.718375  135.772172             SAKURA      194   \n",
       "13778 2024-02-29 20:37:00  34.731574  135.735002             SAKURA      194   \n",
       "13779 2024-02-29 20:45:00  34.731618  135.734950             SAKURA      194   \n",
       "13780 2024-02-29 20:49:00  34.731618  135.734946             SAKURA      194   \n",
       "\n",
       "       spot_id history_id  \n",
       "0            0   202304_1  \n",
       "1            0   202304_1  \n",
       "2            0   202304_1  \n",
       "3            0   202304_1  \n",
       "4         1280   202304_2  \n",
       "...        ...        ...  \n",
       "13776      751  202402_68  \n",
       "13777       41  202402_68  \n",
       "13778        0  202402_68  \n",
       "13779        0  202402_68  \n",
       "13780        0  202402_68  \n",
       "\n",
       "[13781 rows x 7 columns]"
      ]
     },
     "execution_count": 3,
     "metadata": {},
     "output_type": "execute_result"
    }
   ],
   "source": [
    "print(trip_df.iloc[0][\"created_at\"].hour)\n",
    "\n",
    "trip_df\n"
   ]
  },
  {
   "cell_type": "code",
   "execution_count": 4,
   "metadata": {},
   "outputs": [
    {
     "data": {
      "text/html": [
       "<div>\n",
       "<style scoped>\n",
       "    .dataframe tbody tr th:only-of-type {\n",
       "        vertical-align: middle;\n",
       "    }\n",
       "\n",
       "    .dataframe tbody tr th {\n",
       "        vertical-align: top;\n",
       "    }\n",
       "\n",
       "    .dataframe thead th {\n",
       "        text-align: right;\n",
       "    }\n",
       "</style>\n",
       "<table border=\"1\" class=\"dataframe\">\n",
       "  <thead>\n",
       "    <tr style=\"text-align: right;\">\n",
       "      <th></th>\n",
       "      <th>user_id</th>\n",
       "      <th>user_type</th>\n",
       "    </tr>\n",
       "  </thead>\n",
       "  <tbody>\n",
       "    <tr>\n",
       "      <th>0</th>\n",
       "      <td>1</td>\n",
       "      <td>staff</td>\n",
       "    </tr>\n",
       "    <tr>\n",
       "      <th>1</th>\n",
       "      <td>2</td>\n",
       "      <td>staff</td>\n",
       "    </tr>\n",
       "    <tr>\n",
       "      <th>2</th>\n",
       "      <td>3</td>\n",
       "      <td>staff</td>\n",
       "    </tr>\n",
       "    <tr>\n",
       "      <th>3</th>\n",
       "      <td>4</td>\n",
       "      <td>staff</td>\n",
       "    </tr>\n",
       "    <tr>\n",
       "      <th>4</th>\n",
       "      <td>5</td>\n",
       "      <td>staff</td>\n",
       "    </tr>\n",
       "    <tr>\n",
       "      <th>...</th>\n",
       "      <td>...</td>\n",
       "      <td>...</td>\n",
       "    </tr>\n",
       "    <tr>\n",
       "      <th>238</th>\n",
       "      <td>234</td>\n",
       "      <td>student</td>\n",
       "    </tr>\n",
       "    <tr>\n",
       "      <th>239</th>\n",
       "      <td>235</td>\n",
       "      <td>student</td>\n",
       "    </tr>\n",
       "    <tr>\n",
       "      <th>240</th>\n",
       "      <td>236</td>\n",
       "      <td>student</td>\n",
       "    </tr>\n",
       "    <tr>\n",
       "      <th>241</th>\n",
       "      <td>237</td>\n",
       "      <td>student</td>\n",
       "    </tr>\n",
       "    <tr>\n",
       "      <th>242</th>\n",
       "      <td>238</td>\n",
       "      <td>student</td>\n",
       "    </tr>\n",
       "  </tbody>\n",
       "</table>\n",
       "<p>243 rows × 2 columns</p>\n",
       "</div>"
      ],
      "text/plain": [
       "     user_id user_type\n",
       "0          1     staff\n",
       "1          2     staff\n",
       "2          3     staff\n",
       "3          4     staff\n",
       "4          5     staff\n",
       "..       ...       ...\n",
       "238      234   student\n",
       "239      235   student\n",
       "240      236   student\n",
       "241      237   student\n",
       "242      238   student\n",
       "\n",
       "[243 rows x 2 columns]"
      ]
     },
     "execution_count": 4,
     "metadata": {},
     "output_type": "execute_result"
    }
   ],
   "source": [
    "user_df\n"
   ]
  },
  {
   "cell_type": "code",
   "execution_count": 5,
   "metadata": {},
   "outputs": [
    {
     "data": {
      "text/html": [
       "<div>\n",
       "<style scoped>\n",
       "    .dataframe tbody tr th:only-of-type {\n",
       "        vertical-align: middle;\n",
       "    }\n",
       "\n",
       "    .dataframe tbody tr th {\n",
       "        vertical-align: top;\n",
       "    }\n",
       "\n",
       "    .dataframe thead th {\n",
       "        text-align: right;\n",
       "    }\n",
       "</style>\n",
       "<table border=\"1\" class=\"dataframe\">\n",
       "  <thead>\n",
       "    <tr style=\"text-align: right;\">\n",
       "      <th></th>\n",
       "      <th>created_at</th>\n",
       "      <th>lat</th>\n",
       "      <th>lon</th>\n",
       "      <th>car</th>\n",
       "      <th>user_id</th>\n",
       "      <th>spot_id</th>\n",
       "      <th>history_id</th>\n",
       "      <th>user_type</th>\n",
       "    </tr>\n",
       "  </thead>\n",
       "  <tbody>\n",
       "    <tr>\n",
       "      <th>0</th>\n",
       "      <td>2023-04-01 06:20:00</td>\n",
       "      <td>34.731593</td>\n",
       "      <td>135.734878</td>\n",
       "      <td>iMiev02</td>\n",
       "      <td>140</td>\n",
       "      <td>0</td>\n",
       "      <td>202304_1</td>\n",
       "      <td>student</td>\n",
       "    </tr>\n",
       "    <tr>\n",
       "      <th>1</th>\n",
       "      <td>2023-04-01 07:20:00</td>\n",
       "      <td>34.731593</td>\n",
       "      <td>135.734878</td>\n",
       "      <td>iMiev02</td>\n",
       "      <td>140</td>\n",
       "      <td>0</td>\n",
       "      <td>202304_1</td>\n",
       "      <td>student</td>\n",
       "    </tr>\n",
       "    <tr>\n",
       "      <th>2</th>\n",
       "      <td>2023-04-01 08:20:00</td>\n",
       "      <td>34.731593</td>\n",
       "      <td>135.734878</td>\n",
       "      <td>iMiev02</td>\n",
       "      <td>140</td>\n",
       "      <td>0</td>\n",
       "      <td>202304_1</td>\n",
       "      <td>student</td>\n",
       "    </tr>\n",
       "    <tr>\n",
       "      <th>3</th>\n",
       "      <td>2023-04-01 09:20:00</td>\n",
       "      <td>34.731593</td>\n",
       "      <td>135.734878</td>\n",
       "      <td>iMiev02</td>\n",
       "      <td>140</td>\n",
       "      <td>0</td>\n",
       "      <td>202304_1</td>\n",
       "      <td>student</td>\n",
       "    </tr>\n",
       "    <tr>\n",
       "      <th>4</th>\n",
       "      <td>2023-04-01 10:02:00</td>\n",
       "      <td>34.732175</td>\n",
       "      <td>135.736170</td>\n",
       "      <td>iMiev02</td>\n",
       "      <td>140</td>\n",
       "      <td>60</td>\n",
       "      <td>202304_1</td>\n",
       "      <td>student</td>\n",
       "    </tr>\n",
       "    <tr>\n",
       "      <th>...</th>\n",
       "      <td>...</td>\n",
       "      <td>...</td>\n",
       "      <td>...</td>\n",
       "      <td>...</td>\n",
       "      <td>...</td>\n",
       "      <td>...</td>\n",
       "      <td>...</td>\n",
       "      <td>...</td>\n",
       "    </tr>\n",
       "    <tr>\n",
       "      <th>13879</th>\n",
       "      <td>2024-02-27 14:11:00</td>\n",
       "      <td>34.746073</td>\n",
       "      <td>135.770846</td>\n",
       "      <td>SAKURA</td>\n",
       "      <td>204</td>\n",
       "      <td>52</td>\n",
       "      <td>202402_61</td>\n",
       "      <td>student</td>\n",
       "    </tr>\n",
       "    <tr>\n",
       "      <th>13880</th>\n",
       "      <td>2024-02-27 14:41:00</td>\n",
       "      <td>34.745593</td>\n",
       "      <td>135.766670</td>\n",
       "      <td>SAKURA</td>\n",
       "      <td>204</td>\n",
       "      <td>12</td>\n",
       "      <td>202402_61</td>\n",
       "      <td>student</td>\n",
       "    </tr>\n",
       "    <tr>\n",
       "      <th>13881</th>\n",
       "      <td>2024-02-27 14:57:00</td>\n",
       "      <td>34.745605</td>\n",
       "      <td>135.766656</td>\n",
       "      <td>SAKURA</td>\n",
       "      <td>204</td>\n",
       "      <td>12</td>\n",
       "      <td>202402_61</td>\n",
       "      <td>student</td>\n",
       "    </tr>\n",
       "    <tr>\n",
       "      <th>13882</th>\n",
       "      <td>2024-02-27 15:14:00</td>\n",
       "      <td>34.733123</td>\n",
       "      <td>135.735297</td>\n",
       "      <td>SAKURA</td>\n",
       "      <td>204</td>\n",
       "      <td>36</td>\n",
       "      <td>202402_61</td>\n",
       "      <td>student</td>\n",
       "    </tr>\n",
       "    <tr>\n",
       "      <th>13883</th>\n",
       "      <td>2024-02-27 15:21:00</td>\n",
       "      <td>34.732231</td>\n",
       "      <td>135.732406</td>\n",
       "      <td>SAKURA</td>\n",
       "      <td>204</td>\n",
       "      <td>1</td>\n",
       "      <td>202402_61</td>\n",
       "      <td>student</td>\n",
       "    </tr>\n",
       "  </tbody>\n",
       "</table>\n",
       "<p>13884 rows × 8 columns</p>\n",
       "</div>"
      ],
      "text/plain": [
       "               created_at        lat         lon      car  user_id  spot_id  \\\n",
       "0     2023-04-01 06:20:00  34.731593  135.734878  iMiev02      140        0   \n",
       "1     2023-04-01 07:20:00  34.731593  135.734878  iMiev02      140        0   \n",
       "2     2023-04-01 08:20:00  34.731593  135.734878  iMiev02      140        0   \n",
       "3     2023-04-01 09:20:00  34.731593  135.734878  iMiev02      140        0   \n",
       "4     2023-04-01 10:02:00  34.732175  135.736170  iMiev02      140       60   \n",
       "...                   ...        ...         ...      ...      ...      ...   \n",
       "13879 2024-02-27 14:11:00  34.746073  135.770846   SAKURA      204       52   \n",
       "13880 2024-02-27 14:41:00  34.745593  135.766670   SAKURA      204       12   \n",
       "13881 2024-02-27 14:57:00  34.745605  135.766656   SAKURA      204       12   \n",
       "13882 2024-02-27 15:14:00  34.733123  135.735297   SAKURA      204       36   \n",
       "13883 2024-02-27 15:21:00  34.732231  135.732406   SAKURA      204        1   \n",
       "\n",
       "      history_id user_type  \n",
       "0       202304_1   student  \n",
       "1       202304_1   student  \n",
       "2       202304_1   student  \n",
       "3       202304_1   student  \n",
       "4       202304_1   student  \n",
       "...          ...       ...  \n",
       "13879  202402_61   student  \n",
       "13880  202402_61   student  \n",
       "13881  202402_61   student  \n",
       "13882  202402_61   student  \n",
       "13883  202402_61   student  \n",
       "\n",
       "[13884 rows x 8 columns]"
      ]
     },
     "execution_count": 5,
     "metadata": {},
     "output_type": "execute_result"
    }
   ],
   "source": [
    "# テーブル結合(内部結合)\n",
    "trip_df.merge(user_df, on=\"user_id\")\n"
   ]
  },
  {
   "cell_type": "code",
   "execution_count": 6,
   "metadata": {},
   "outputs": [
    {
     "data": {
      "application/vnd.plotly.v1+json": {
       "config": {
        "plotlyServerURL": "https://plot.ly"
       },
       "data": [
        {
         "alignmentgroup": "True",
         "hovertemplate": "spot_name=%{x}<br>行った回数=%{y}<extra></extra>",
         "legendgroup": "",
         "marker": {
          "color": "#636efa",
          "pattern": {
           "shape": ""
          }
         },
         "name": "",
         "offsetgroup": "",
         "orientation": "v",
         "showlegend": false,
         "textposition": "auto",
         "type": "bar",
         "x": [
          "生鮮＆業務スーパーボトルワールドOK 押熊店",
          "かつアンドかつ 精華町店",
          "イオンモール奈良登美ヶ丘",
          "ラ・ムー 奈良二名店",
          "みらん 奈良店",
          "セブン-イレブン 生駒鹿畑町店",
          "ジョイフル 京都精華町店",
          "ガスト 生駒鹿の台東店",
          "アピタタウンけいはんな",
          "イオンモール高の原",
          "ブーランジェ ヤマダ",
          "EVERY BODY 北大和店",
          "マクドナルド 白庭台店",
          "近鉄富雄元町駅前駐車場",
          "イオンモール奈良登美ヶ丘",
          "グリーンラボ",
          "スーパーヤオヒコ 北大和店",
          "岡本矯正歯科",
          "アピタタウンけいはんな",
          "かしき屋 福茂千",
          "イオンモール奈良登美ヶ丘",
          "スーパーセンターオークワ 生駒上町店",
          "河童ラーメン本舗 押熊店",
          "ビエラタウン けいはんな",
          "愛和エクステリア",
          "ジャパン 奈良押熊店",
          "スーパーセンターオークワ 生駒上町店",
          "マクドナルド ららぽーと門真店",
          "アノラーメン製作所",
          "モスバーガー平城ニュータウン店",
          "松島塗装工業株式会社",
          "イオンモール高の原",
          "くら寿司 生駒店",
          "スシロー 精華町店",
          "イオンモール奈良登美ヶ丘",
          "ユーポス生駒店",
          "やまとホームサービス",
          "ジャパン 奈良尼ヶ辻店",
          "合同会社ヒートテック",
          "セブン-イレブン 生駒鹿畑町店",
          "餃子の王将 押熊店",
          "セブン-イレブン 生駒北田原町店",
          "イオンモール高の原",
          "国立国会図書館 関西館",
          "セブン-イレブン 生駒南田原町店",
          "XLARGE/X-girl",
          "ルーチェサンタルチア 生駒学園前店",
          "野村工具製作所",
          "うさぎホーム",
          "ローソン 学研北生駒駅前店",
          "鳥鳥 学園前店",
          "生駒北大和郵便局",
          "スーパーヤオヒコ 富雄店",
          "中屋",
          "金子モータープール",
          "（株）トーモク 大阪工場",
          "ロッカーハウスL5",
          "郡電気商会",
          "ルイジアナママ 奈良学園前店",
          "おやつカンパニー 森工場",
          "グランツしかはた",
          "カラオケレインボー精華光台店",
          "スシロー 精華町店",
          "ココス 東生駒店",
          "ボトルワールドＯＫ富雄店",
          "EV充電スタンド",
          "ファミリーマート 中登美ヶ丘六丁目店",
          "しゃぶ葉 奈良押熊店",
          "真弓橋（バス）",
          "ゆうちょ銀行 大阪支店 ファミリーマート精華光台店内出張所",
          "花の木",
          "フリルアイビューティー・北生駒店",
          "ABCハウジング 奈良・登美ヶ丘住宅公園",
          "Shanti Yoga",
          "大和アルミ工業（株）",
          "天ぷら 吉四六",
          "麺舎 いっとう 奈良富雄店",
          "パレット 生駒店",
          "ダイニングルーム",
          "イオンモール奈良登美ヶ丘",
          "（株）三輪素麺 たかだ工場",
          "宝興産（株）大阪営業所",
          "ハウス・コレクション~住育すまう・はぐくむ～",
          "ほけんの窓口 松井山手店",
          "ビエラタウン けいはんな",
          "エコロパーク北生駒駅前第1",
          "ファミリーマート 生駒上町店",
          "オーダースーツ専門店 ツキムラ京都精華店",
          "定食製作所",
          "学研奈良登美ヶ丘郵便局",
          "お宝創庫 生駒店",
          "プレミール山崎",
          "高山郵便局",
          "まえはし整骨院",
          "キリン堂 生駒店",
          "むさしの森珈琲 奈良中登美ケ丘店",
          "ピザハット ならやま大通り押熊店",
          "二輪館P.F.D.",
          "あすかホームクリニック",
          "阪奈中央病院",
          "原歯科医院",
          "インド・ネパール料理 ルンビニ 生駒店",
          "フレンドマート東寝屋川店",
          "本家かまどや 山田川店",
          "同志社大学 医心館東駐車場",
          "吉野家 １６３号線生駒店",
          "天下一品 東生駒店",
          "Jun & Saki Memorial Building",
          "高山竹林園 駐車場1",
          "ショーナン.ロジテック",
          "ダイタク生駒ショールーム",
          "ももたろう 京田辺店",
          "株式会社タツノ 奈良営業所",
          "ファミリーマート 生駒西白庭台店",
          "オーダースーツ専門店 ツキムラ京都精華店",
          "スーパーセンターオークワ 生駒上町店",
          "うどん＋食彩 いな田",
          "ジョイフル 京都精華町店",
          "竹内小児科",
          "自家製麺 杵屋 生駒近鉄百貨店",
          "ナマステインディアレストラン",
          "株式会社Arch",
          "ココイロカフェ 東大阪店",
          "サブウェイ 近鉄西大寺駅前店",
          "奈良市新大宮chord（コード）美容室",
          "サーティワンアイスクリーム 奈良押熊店",
          "グランダ学園前",
          "大神神社第6駐車場",
          "Kanemi アピタ大和郡山店",
          "パリワール村",
          "ガイア・テクノサービスセンター 精華学研工場",
          "クリーニング ルビー アピタタウンけいはんな店",
          "焼肉やる気 寝屋川店",
          "くら寿司 奈良学園前店",
          "EV充電スタンド",
          "（株）今村化学工業 白蟻研究所",
          "セレミューズ(株)",
          "株式会社エイチツーオー生駒支店",
          "びっくりドンキー 奈良学園前店",
          "生命科学研究基盤センター",
          "春日橋",
          "なか卯 生駒俵口店",
          "美容室 ヘアサロン 絆-キズナ-",
          "タイムズカー ＵＲ中登美第３",
          "ALOHA CAFE Pineapple 生駒店",
          "BOOKOFF 奈良押熊店",
          "ファミリーマート 中登美ヶ丘六丁目店",
          "ファミリーモア八重桜 押熊館",
          "北大和体育施設 体育館",
          "せいかガーデンシティ",
          "朝日自動車工業（株） リース事業部",
          "あづまケータリングサービス おしくま店",
          "ビッグボーイ 奈良平城店",
          "うなぎの豊川",
          "事務棟別館",
          "コストコホールセール 京都八幡倉庫店",
          "ローソン 奈良押熊町店",
          "きんのぶた 北生駒上町店",
          "八光オート",
          "イオンモール奈良登美ヶ丘",
          "生駒市立井出山体育館",
          "石臼挽き手打ちそば 蕎麦人",
          "コメダ珈琲店 生駒店",
          "バーミヤン 生駒白庭台店",
          "Amazon Hub ロッカー - スギ_富雄三松店",
          "ジョリーパスタ 押熊店",
          "リッケンスポーツクラブ精華教室",
          "（株）博善社 やすらぎ店",
          "アサノブロック（株）",
          "エヌ・アイ・プランニング",
          "ユクリ",
          "たにの皮ふ科クリニック",
          "まりお流らーめん",
          "掛橋（バス）",
          "スギ薬局 登美ケ丘店",
          "ビューティサロンFUJITA登美ケ丘店",
          "登美ヶ丘公民館 大ホール３（旧 グリーンホール）",
          "（株）ケーエスケー 大阪東支店",
          "シャトレーゼ 四條畷店",
          "齋藤医院",
          "ドイツ菓子 ゲベック 本店",
          "とびやま不動産",
          "いこまツーリスト",
          "一歩堂 登美ヶ丘店",
          "堺浜大阪ガス天然ガススタンド",
          "けいはんなプラザ",
          "スーパーヤオヒコ 北大和店",
          "コイン精米所",
          "事務棟別館",
          "神戸凮月堂",
          "セブン-イレブン 大東谷川２丁目店",
          "天丼・天ぷら本舗 さん天 外環善根寺店",
          "ラーメン大和 四條畷店",
          "株式会社ランド・フリーダム",
          "片桐池の内（バス）",
          "生駒鹿ノ台郵便局",
          "パン工房 西山荘",
          "セブン-イレブン 奈良四条大路４丁目店",
          "コストコホールセール 京都八幡倉庫店",
          "カインズ 奈良二名店",
          "スギ薬局 東生駒店",
          "goodspoon 高の原テラス店",
          "株式会社喜多塾",
          "ローソン銀行ＡＴＭ 奈良中町共同出張所",
          "ゆうちょ銀行 大阪支店 ファミリーマート奈良中町店内出張所",
          "（有）フォトプラザクスハラ",
          "ミニストップ 伊賀畑村店",
          "門真商店",
          "コメリパワー 生駒店",
          "くろちゃん",
          "イオンモール奈良登美ヶ丘",
          "MEGAドン・キホーテUNY精華台店",
          "イオンモール高の原",
          "コーナン精華台店",
          "精華町立精華南中学校",
          "アサヒペットクリニック",
          "セブン-イレブン 奈良押熊町店",
          "ローソン銀行ＡＴＭ 木津川山城共同出張所",
          "Cafe'Marble.25",
          "（社）奈良県警備業協会",
          "りらくる 押熊店",
          "ＵＲ奈良 学園前",
          "ベル不動産コンサルタント（株）",
          "セブン銀行ATM",
          "くら寿司 精華町店",
          "EV充電スポット",
          "かっぱ寿司 奈良二名店",
          "きみや",
          "apollostation セルフ秋篠SS （シェル石油大阪発売所）",
          "ココカラファイン 北登美ケ丘店",
          "産直市場よってって 秋篠店",
          "たけうち動物病院",
          "ドコモショップ学研北生駒店",
          "木津川台",
          "アピタタウンけいはんな",
          "コーナン精華台店",
          "聖塾",
          "ノムラクリーニング 谷田店",
          "天丼・天ぷら本舗 さん天 四條畷店",
          "Honda Cars 奈良中央 高の原店",
          "コスモ石油 セルフ登美ヶ丘 SS (コスモ石油販売大阪カンパニー)",
          "ニューヤマザキデイリーストア 奈良先端科学技術大学店",
          "セブン-イレブン 奈良中登美ヶ丘３丁目店",
          "無鉄砲 総本店",
          "トリカヂ イッパイ",
          "hair patra.D パトラD",
          "個別指導キャンパス 富雄校",
          "奈良先端科学技術大学院大学（バス）",
          "つけ麺 無心",
          "BOSS アウトレット 門真店",
          "北大和一丁目（バス）",
          "元喜神 押熊店",
          "大和織布（有）",
          "登美ヶ丘駅前駐車場",
          "スポーツクラブ＆スパ ルネサンス 登美ヶ丘",
          "奈良トヨペット 登美ヶ丘店",
          "かつアンドかつ 精華町店"
         ],
         "xaxis": "x",
         "y": [
          36,
          34,
          33,
          21,
          20,
          17,
          17,
          17,
          16,
          16,
          15,
          14,
          13,
          13,
          11,
          11,
          11,
          11,
          10,
          10,
          10,
          10,
          8,
          8,
          8,
          8,
          8,
          7,
          7,
          7,
          7,
          7,
          7,
          7,
          7,
          7,
          6,
          6,
          6,
          6,
          6,
          5,
          5,
          5,
          5,
          5,
          5,
          5,
          5,
          5,
          5,
          5,
          5,
          4,
          4,
          4,
          4,
          4,
          4,
          4,
          4,
          4,
          4,
          4,
          4,
          4,
          4,
          4,
          4,
          3,
          3,
          3,
          3,
          3,
          3,
          3,
          3,
          3,
          3,
          3,
          3,
          3,
          3,
          3,
          3,
          3,
          3,
          3,
          3,
          3,
          3,
          3,
          3,
          3,
          3,
          3,
          3,
          3,
          3,
          3,
          3,
          3,
          3,
          3,
          3,
          3,
          3,
          3,
          3,
          2,
          2,
          2,
          2,
          2,
          2,
          2,
          2,
          2,
          2,
          2,
          2,
          2,
          2,
          2,
          2,
          2,
          2,
          2,
          2,
          2,
          2,
          2,
          2,
          2,
          2,
          2,
          2,
          2,
          2,
          2,
          2,
          2,
          2,
          2,
          2,
          2,
          2,
          2,
          2,
          2,
          2,
          2,
          2,
          2,
          2,
          2,
          2,
          2,
          2,
          2,
          2,
          2,
          2,
          2,
          2,
          2,
          1,
          1,
          1,
          1,
          1,
          1,
          1,
          1,
          1,
          1,
          1,
          1,
          1,
          1,
          1,
          1,
          1,
          1,
          1,
          1,
          1,
          1,
          1,
          1,
          1,
          1,
          1,
          1,
          1,
          1,
          1,
          1,
          1,
          1,
          1,
          1,
          1,
          1,
          1,
          1,
          1,
          1,
          1,
          1,
          1,
          1,
          1,
          1,
          1,
          1,
          1,
          1,
          1,
          1,
          1,
          1,
          1,
          1,
          1,
          1,
          1,
          1,
          1,
          1,
          1,
          1,
          1,
          1,
          1,
          1,
          1,
          1,
          1,
          1,
          1,
          1,
          1,
          1,
          1,
          1,
          1,
          1,
          1,
          1,
          1,
          1,
          1,
          1,
          1,
          1,
          1
         ],
         "yaxis": "y"
        }
       ],
       "layout": {
        "barmode": "relative",
        "font": {
         "size": 9
        },
        "legend": {
         "tracegroupgap": 0
        },
        "template": {
         "data": {
          "bar": [
           {
            "error_x": {
             "color": "#2a3f5f"
            },
            "error_y": {
             "color": "#2a3f5f"
            },
            "marker": {
             "line": {
              "color": "#E5ECF6",
              "width": 0.5
             },
             "pattern": {
              "fillmode": "overlay",
              "size": 10,
              "solidity": 0.2
             }
            },
            "type": "bar"
           }
          ],
          "barpolar": [
           {
            "marker": {
             "line": {
              "color": "#E5ECF6",
              "width": 0.5
             },
             "pattern": {
              "fillmode": "overlay",
              "size": 10,
              "solidity": 0.2
             }
            },
            "type": "barpolar"
           }
          ],
          "carpet": [
           {
            "aaxis": {
             "endlinecolor": "#2a3f5f",
             "gridcolor": "white",
             "linecolor": "white",
             "minorgridcolor": "white",
             "startlinecolor": "#2a3f5f"
            },
            "baxis": {
             "endlinecolor": "#2a3f5f",
             "gridcolor": "white",
             "linecolor": "white",
             "minorgridcolor": "white",
             "startlinecolor": "#2a3f5f"
            },
            "type": "carpet"
           }
          ],
          "choropleth": [
           {
            "colorbar": {
             "outlinewidth": 0,
             "ticks": ""
            },
            "type": "choropleth"
           }
          ],
          "contour": [
           {
            "colorbar": {
             "outlinewidth": 0,
             "ticks": ""
            },
            "colorscale": [
             [
              0,
              "#0d0887"
             ],
             [
              0.1111111111111111,
              "#46039f"
             ],
             [
              0.2222222222222222,
              "#7201a8"
             ],
             [
              0.3333333333333333,
              "#9c179e"
             ],
             [
              0.4444444444444444,
              "#bd3786"
             ],
             [
              0.5555555555555556,
              "#d8576b"
             ],
             [
              0.6666666666666666,
              "#ed7953"
             ],
             [
              0.7777777777777778,
              "#fb9f3a"
             ],
             [
              0.8888888888888888,
              "#fdca26"
             ],
             [
              1,
              "#f0f921"
             ]
            ],
            "type": "contour"
           }
          ],
          "contourcarpet": [
           {
            "colorbar": {
             "outlinewidth": 0,
             "ticks": ""
            },
            "type": "contourcarpet"
           }
          ],
          "heatmap": [
           {
            "colorbar": {
             "outlinewidth": 0,
             "ticks": ""
            },
            "colorscale": [
             [
              0,
              "#0d0887"
             ],
             [
              0.1111111111111111,
              "#46039f"
             ],
             [
              0.2222222222222222,
              "#7201a8"
             ],
             [
              0.3333333333333333,
              "#9c179e"
             ],
             [
              0.4444444444444444,
              "#bd3786"
             ],
             [
              0.5555555555555556,
              "#d8576b"
             ],
             [
              0.6666666666666666,
              "#ed7953"
             ],
             [
              0.7777777777777778,
              "#fb9f3a"
             ],
             [
              0.8888888888888888,
              "#fdca26"
             ],
             [
              1,
              "#f0f921"
             ]
            ],
            "type": "heatmap"
           }
          ],
          "heatmapgl": [
           {
            "colorbar": {
             "outlinewidth": 0,
             "ticks": ""
            },
            "colorscale": [
             [
              0,
              "#0d0887"
             ],
             [
              0.1111111111111111,
              "#46039f"
             ],
             [
              0.2222222222222222,
              "#7201a8"
             ],
             [
              0.3333333333333333,
              "#9c179e"
             ],
             [
              0.4444444444444444,
              "#bd3786"
             ],
             [
              0.5555555555555556,
              "#d8576b"
             ],
             [
              0.6666666666666666,
              "#ed7953"
             ],
             [
              0.7777777777777778,
              "#fb9f3a"
             ],
             [
              0.8888888888888888,
              "#fdca26"
             ],
             [
              1,
              "#f0f921"
             ]
            ],
            "type": "heatmapgl"
           }
          ],
          "histogram": [
           {
            "marker": {
             "pattern": {
              "fillmode": "overlay",
              "size": 10,
              "solidity": 0.2
             }
            },
            "type": "histogram"
           }
          ],
          "histogram2d": [
           {
            "colorbar": {
             "outlinewidth": 0,
             "ticks": ""
            },
            "colorscale": [
             [
              0,
              "#0d0887"
             ],
             [
              0.1111111111111111,
              "#46039f"
             ],
             [
              0.2222222222222222,
              "#7201a8"
             ],
             [
              0.3333333333333333,
              "#9c179e"
             ],
             [
              0.4444444444444444,
              "#bd3786"
             ],
             [
              0.5555555555555556,
              "#d8576b"
             ],
             [
              0.6666666666666666,
              "#ed7953"
             ],
             [
              0.7777777777777778,
              "#fb9f3a"
             ],
             [
              0.8888888888888888,
              "#fdca26"
             ],
             [
              1,
              "#f0f921"
             ]
            ],
            "type": "histogram2d"
           }
          ],
          "histogram2dcontour": [
           {
            "colorbar": {
             "outlinewidth": 0,
             "ticks": ""
            },
            "colorscale": [
             [
              0,
              "#0d0887"
             ],
             [
              0.1111111111111111,
              "#46039f"
             ],
             [
              0.2222222222222222,
              "#7201a8"
             ],
             [
              0.3333333333333333,
              "#9c179e"
             ],
             [
              0.4444444444444444,
              "#bd3786"
             ],
             [
              0.5555555555555556,
              "#d8576b"
             ],
             [
              0.6666666666666666,
              "#ed7953"
             ],
             [
              0.7777777777777778,
              "#fb9f3a"
             ],
             [
              0.8888888888888888,
              "#fdca26"
             ],
             [
              1,
              "#f0f921"
             ]
            ],
            "type": "histogram2dcontour"
           }
          ],
          "mesh3d": [
           {
            "colorbar": {
             "outlinewidth": 0,
             "ticks": ""
            },
            "type": "mesh3d"
           }
          ],
          "parcoords": [
           {
            "line": {
             "colorbar": {
              "outlinewidth": 0,
              "ticks": ""
             }
            },
            "type": "parcoords"
           }
          ],
          "pie": [
           {
            "automargin": true,
            "type": "pie"
           }
          ],
          "scatter": [
           {
            "fillpattern": {
             "fillmode": "overlay",
             "size": 10,
             "solidity": 0.2
            },
            "type": "scatter"
           }
          ],
          "scatter3d": [
           {
            "line": {
             "colorbar": {
              "outlinewidth": 0,
              "ticks": ""
             }
            },
            "marker": {
             "colorbar": {
              "outlinewidth": 0,
              "ticks": ""
             }
            },
            "type": "scatter3d"
           }
          ],
          "scattercarpet": [
           {
            "marker": {
             "colorbar": {
              "outlinewidth": 0,
              "ticks": ""
             }
            },
            "type": "scattercarpet"
           }
          ],
          "scattergeo": [
           {
            "marker": {
             "colorbar": {
              "outlinewidth": 0,
              "ticks": ""
             }
            },
            "type": "scattergeo"
           }
          ],
          "scattergl": [
           {
            "marker": {
             "colorbar": {
              "outlinewidth": 0,
              "ticks": ""
             }
            },
            "type": "scattergl"
           }
          ],
          "scattermapbox": [
           {
            "marker": {
             "colorbar": {
              "outlinewidth": 0,
              "ticks": ""
             }
            },
            "type": "scattermapbox"
           }
          ],
          "scatterpolar": [
           {
            "marker": {
             "colorbar": {
              "outlinewidth": 0,
              "ticks": ""
             }
            },
            "type": "scatterpolar"
           }
          ],
          "scatterpolargl": [
           {
            "marker": {
             "colorbar": {
              "outlinewidth": 0,
              "ticks": ""
             }
            },
            "type": "scatterpolargl"
           }
          ],
          "scatterternary": [
           {
            "marker": {
             "colorbar": {
              "outlinewidth": 0,
              "ticks": ""
             }
            },
            "type": "scatterternary"
           }
          ],
          "surface": [
           {
            "colorbar": {
             "outlinewidth": 0,
             "ticks": ""
            },
            "colorscale": [
             [
              0,
              "#0d0887"
             ],
             [
              0.1111111111111111,
              "#46039f"
             ],
             [
              0.2222222222222222,
              "#7201a8"
             ],
             [
              0.3333333333333333,
              "#9c179e"
             ],
             [
              0.4444444444444444,
              "#bd3786"
             ],
             [
              0.5555555555555556,
              "#d8576b"
             ],
             [
              0.6666666666666666,
              "#ed7953"
             ],
             [
              0.7777777777777778,
              "#fb9f3a"
             ],
             [
              0.8888888888888888,
              "#fdca26"
             ],
             [
              1,
              "#f0f921"
             ]
            ],
            "type": "surface"
           }
          ],
          "table": [
           {
            "cells": {
             "fill": {
              "color": "#EBF0F8"
             },
             "line": {
              "color": "white"
             }
            },
            "header": {
             "fill": {
              "color": "#C8D4E3"
             },
             "line": {
              "color": "white"
             }
            },
            "type": "table"
           }
          ]
         },
         "layout": {
          "annotationdefaults": {
           "arrowcolor": "#2a3f5f",
           "arrowhead": 0,
           "arrowwidth": 1
          },
          "autotypenumbers": "strict",
          "coloraxis": {
           "colorbar": {
            "outlinewidth": 0,
            "ticks": ""
           }
          },
          "colorscale": {
           "diverging": [
            [
             0,
             "#8e0152"
            ],
            [
             0.1,
             "#c51b7d"
            ],
            [
             0.2,
             "#de77ae"
            ],
            [
             0.3,
             "#f1b6da"
            ],
            [
             0.4,
             "#fde0ef"
            ],
            [
             0.5,
             "#f7f7f7"
            ],
            [
             0.6,
             "#e6f5d0"
            ],
            [
             0.7,
             "#b8e186"
            ],
            [
             0.8,
             "#7fbc41"
            ],
            [
             0.9,
             "#4d9221"
            ],
            [
             1,
             "#276419"
            ]
           ],
           "sequential": [
            [
             0,
             "#0d0887"
            ],
            [
             0.1111111111111111,
             "#46039f"
            ],
            [
             0.2222222222222222,
             "#7201a8"
            ],
            [
             0.3333333333333333,
             "#9c179e"
            ],
            [
             0.4444444444444444,
             "#bd3786"
            ],
            [
             0.5555555555555556,
             "#d8576b"
            ],
            [
             0.6666666666666666,
             "#ed7953"
            ],
            [
             0.7777777777777778,
             "#fb9f3a"
            ],
            [
             0.8888888888888888,
             "#fdca26"
            ],
            [
             1,
             "#f0f921"
            ]
           ],
           "sequentialminus": [
            [
             0,
             "#0d0887"
            ],
            [
             0.1111111111111111,
             "#46039f"
            ],
            [
             0.2222222222222222,
             "#7201a8"
            ],
            [
             0.3333333333333333,
             "#9c179e"
            ],
            [
             0.4444444444444444,
             "#bd3786"
            ],
            [
             0.5555555555555556,
             "#d8576b"
            ],
            [
             0.6666666666666666,
             "#ed7953"
            ],
            [
             0.7777777777777778,
             "#fb9f3a"
            ],
            [
             0.8888888888888888,
             "#fdca26"
            ],
            [
             1,
             "#f0f921"
            ]
           ]
          },
          "colorway": [
           "#636efa",
           "#EF553B",
           "#00cc96",
           "#ab63fa",
           "#FFA15A",
           "#19d3f3",
           "#FF6692",
           "#B6E880",
           "#FF97FF",
           "#FECB52"
          ],
          "font": {
           "color": "#2a3f5f"
          },
          "geo": {
           "bgcolor": "white",
           "lakecolor": "white",
           "landcolor": "#E5ECF6",
           "showlakes": true,
           "showland": true,
           "subunitcolor": "white"
          },
          "hoverlabel": {
           "align": "left"
          },
          "hovermode": "closest",
          "mapbox": {
           "style": "light"
          },
          "paper_bgcolor": "white",
          "plot_bgcolor": "#E5ECF6",
          "polar": {
           "angularaxis": {
            "gridcolor": "white",
            "linecolor": "white",
            "ticks": ""
           },
           "bgcolor": "#E5ECF6",
           "radialaxis": {
            "gridcolor": "white",
            "linecolor": "white",
            "ticks": ""
           }
          },
          "scene": {
           "xaxis": {
            "backgroundcolor": "#E5ECF6",
            "gridcolor": "white",
            "gridwidth": 2,
            "linecolor": "white",
            "showbackground": true,
            "ticks": "",
            "zerolinecolor": "white"
           },
           "yaxis": {
            "backgroundcolor": "#E5ECF6",
            "gridcolor": "white",
            "gridwidth": 2,
            "linecolor": "white",
            "showbackground": true,
            "ticks": "",
            "zerolinecolor": "white"
           },
           "zaxis": {
            "backgroundcolor": "#E5ECF6",
            "gridcolor": "white",
            "gridwidth": 2,
            "linecolor": "white",
            "showbackground": true,
            "ticks": "",
            "zerolinecolor": "white"
           }
          },
          "shapedefaults": {
           "line": {
            "color": "#2a3f5f"
           }
          },
          "ternary": {
           "aaxis": {
            "gridcolor": "white",
            "linecolor": "white",
            "ticks": ""
           },
           "baxis": {
            "gridcolor": "white",
            "linecolor": "white",
            "ticks": ""
           },
           "bgcolor": "#E5ECF6",
           "caxis": {
            "gridcolor": "white",
            "linecolor": "white",
            "ticks": ""
           }
          },
          "title": {
           "x": 0.05
          },
          "xaxis": {
           "automargin": true,
           "gridcolor": "white",
           "linecolor": "white",
           "ticks": "",
           "title": {
            "standoff": 15
           },
           "zerolinecolor": "white",
           "zerolinewidth": 2
          },
          "yaxis": {
           "automargin": true,
           "gridcolor": "white",
           "linecolor": "white",
           "ticks": "",
           "title": {
            "standoff": 15
           },
           "zerolinecolor": "white",
           "zerolinewidth": 2
          }
         }
        },
        "title": {
         "text": "乗車人数が3人以上のときに、どのspotへ行ったかを調べ、行った回数をカウントするサンプル(1)"
        },
        "xaxis": {
         "anchor": "y",
         "domain": [
          0,
          1
         ],
         "tickangle": 45,
         "title": {
          "text": "スポット名"
         }
        },
        "yaxis": {
         "anchor": "x",
         "domain": [
          0,
          1
         ],
         "title": {
          "text": "行った回数"
         }
        }
       }
      }
     },
     "metadata": {},
     "output_type": "display_data"
    },
    {
     "data": {
      "application/vnd.plotly.v1+json": {
       "config": {
        "plotlyServerURL": "https://plot.ly"
       },
       "data": [
        {
         "alignmentgroup": "True",
         "hovertemplate": "spot_name=%{x}<br>行った回数=%{y}<extra></extra>",
         "legendgroup": "",
         "marker": {
          "color": "#636efa",
          "pattern": {
           "shape": ""
          }
         },
         "name": "",
         "offsetgroup": "",
         "orientation": "v",
         "showlegend": false,
         "textposition": "auto",
         "type": "bar",
         "x": [
          "イオンモール奈良登美ヶ丘",
          "生鮮＆業務スーパーボトルワールドOK 押熊店",
          "かつアンドかつ 精華町店",
          "イオンモール高の原",
          "アピタタウンけいはんな",
          "セブン-イレブン 生駒鹿畑町店",
          "ラ・ムー 奈良二名店",
          "スーパーセンターオークワ 生駒上町店",
          "みらん 奈良店",
          "ジョイフル 京都精華町店",
          "ガスト 生駒鹿の台東店",
          "ブーランジェ ヤマダ",
          "EVERY BODY 北大和店",
          "近鉄富雄元町駅前駐車場",
          "マクドナルド 白庭台店",
          "スーパーヤオヒコ 北大和店",
          "スシロー 精華町店",
          "岡本矯正歯科",
          "ビエラタウン けいはんな",
          "グリーンラボ",
          "かしき屋 福茂千",
          "愛和エクステリア",
          "ジャパン 奈良押熊店",
          "河童ラーメン本舗 押熊店",
          "マクドナルド ららぽーと門真店",
          "アノラーメン製作所",
          "くら寿司 生駒店",
          "松島塗装工業株式会社",
          "ユーポス生駒店",
          "モスバーガー平城ニュータウン店",
          "餃子の王将 押熊店",
          "やまとホームサービス",
          "ジャパン 奈良尼ヶ辻店",
          "EV充電スタンド",
          "ファミリーマート 中登美ヶ丘六丁目店",
          "合同会社ヒートテック",
          "オーダースーツ専門店 ツキムラ京都精華店",
          "ローソン 学研北生駒駅前店",
          "スーパーヤオヒコ 富雄店",
          "ルーチェサンタルチア 生駒学園前店",
          "セブン-イレブン 生駒北田原町店",
          "野村工具製作所",
          "生駒北大和郵便局",
          "セブン-イレブン 生駒南田原町店",
          "鳥鳥 学園前店",
          "国立国会図書館 関西館",
          "XLARGE/X-girl",
          "うさぎホーム",
          "ルイジアナママ 奈良学園前店",
          "グランツしかはた",
          "（株）トーモク 大阪工場",
          "カラオケレインボー精華光台店",
          "金子モータープール",
          "ココス 東生駒店",
          "真弓橋（バス）",
          "中屋",
          "ボトルワールドＯＫ富雄店",
          "しゃぶ葉 奈良押熊店",
          "ロッカーハウスL5",
          "郡電気商会",
          "おやつカンパニー 森工場",
          "プレミール山崎",
          "コストコホールセール 京都八幡倉庫店",
          "ピザハット ならやま大通り押熊店",
          "同志社大学 医心館東駐車場",
          "吉野家 １６３号線生駒店",
          "パレット 生駒店",
          "二輪館P.F.D.",
          "原歯科医院",
          "事務棟別館",
          "ファミリーマート 生駒上町店",
          "ハウス・コレクション~住育すまう・はぐくむ～",
          "フリルアイビューティー・北生駒店",
          "ダイニングルーム",
          "フレンドマート東寝屋川店",
          "ABCハウジング 奈良・登美ヶ丘住宅公園",
          "大和アルミ工業（株）",
          "むさしの森珈琲 奈良中登美ケ丘店",
          "（株）三輪素麺 たかだ工場",
          "麺舎 いっとう 奈良富雄店",
          "高山郵便局",
          "Jun & Saki Memorial Building",
          "高山竹林園 駐車場1",
          "Shanti Yoga",
          "阪奈中央病院",
          "あすかホームクリニック",
          "花の木",
          "お宝創庫 生駒店",
          "ほけんの窓口 松井山手店",
          "まえはし整骨院",
          "本家かまどや 山田川店",
          "インド・ネパール料理 ルンビニ 生駒店",
          "エコロパーク北生駒駅前第1",
          "ゆうちょ銀行 大阪支店 ファミリーマート精華光台店内出張所",
          "宝興産（株）大阪営業所",
          "天ぷら 吉四六",
          "天下一品 東生駒店",
          "キリン堂 生駒店",
          "学研奈良登美ヶ丘郵便局",
          "定食製作所",
          "朝日自動車工業（株） リース事業部",
          "（株）今村化学工業 白蟻研究所",
          "奈良市新大宮chord（コード）美容室",
          "ファミリーマート 生駒西白庭台店",
          "ファミリーモア八重桜 押熊館",
          "北大和体育施設 体育館",
          "八光オート",
          "ビッグボーイ 奈良平城店",
          "自家製麺 杵屋 生駒近鉄百貨店",
          "ローソン 奈良押熊町店",
          "美容室 ヘアサロン 絆-キズナ-",
          "竹内小児科",
          "石臼挽き手打ちそば 蕎麦人",
          "生駒市立井出山体育館",
          "生命科学研究基盤センター",
          "焼肉やる気 寝屋川店",
          "株式会社タツノ 奈良営業所",
          "大神神社第6駐車場",
          "株式会社Arch",
          "春日橋",
          "株式会社エイチツーオー生駒支店",
          "バーミヤン 生駒白庭台店",
          "びっくりドンキー 奈良学園前店",
          "クリーニング ルビー アピタタウンけいはんな店",
          "ココイロカフェ 東大阪店",
          "あづまケータリングサービス おしくま店",
          "うどん＋食彩 いな田",
          "うなぎの豊川",
          "ジョリーパスタ 押熊店",
          "ショーナン.ロジテック",
          "なか卯 生駒俵口店",
          "Kanemi アピタ大和郡山店",
          "グランダ学園前",
          "サーティワンアイスクリーム 奈良押熊店",
          "サブウェイ 近鉄西大寺駅前店",
          "コーナン精華台店",
          "コメダ珈琲店 生駒店",
          "きんのぶた 北生駒上町店",
          "せいかガーデンシティ",
          "ガイア・テクノサービスセンター 精華学研工場",
          "くら寿司 奈良学園前店",
          "BOOKOFF 奈良押熊店",
          "パリワール村",
          "ALOHA CAFE Pineapple 生駒店",
          "ナマステインディアレストラン",
          "セレミューズ(株)",
          "タイムズカー ＵＲ中登美第３",
          "ダイタク生駒ショールーム",
          "Amazon Hub ロッカー - スギ_富雄三松店",
          "ももたろう 京田辺店",
          "登美ヶ丘公民館 大ホール３（旧 グリーンホール）",
          "とびやま不動産",
          "つけ麺 無心",
          "産直市場よってって 秋篠店",
          "片桐池の内（バス）",
          "たけうち動物病院",
          "くら寿司 精華町店",
          "株式会社喜多塾",
          "生駒鹿ノ台郵便局",
          "くろちゃん",
          "けいはんなプラザ",
          "たにの皮ふ科クリニック",
          "無鉄砲 総本店",
          "株式会社ランド・フリーダム",
          "ビューティサロンFUJITA登美ケ丘店",
          "登美ヶ丘駅前駐車場",
          "Honda Cars 奈良中央 高の原店",
          "（社）奈良県警備業協会",
          "（株）博善社 やすらぎ店",
          "BOSS アウトレット 門真店",
          "（株）ケーエスケー 大阪東支店",
          "（有）フォトプラザクスハラ",
          "齋藤医院",
          "Cafe'Marble.25",
          "EV充電スポット",
          "MEGAドン・キホーテUNY精華台店",
          "神戸凮月堂",
          "apollostation セルフ秋篠SS （シェル石油大阪発売所）",
          "門真商店",
          "goodspoon 高の原テラス店",
          "hair patra.D パトラD",
          "いこまツーリスト",
          "聖塾",
          "精華町立精華南中学校",
          "きみや",
          "かっぱ寿司 奈良二名店",
          "アサヒペットクリニック",
          "まりお流らーめん",
          "一歩堂 登美ヶ丘店",
          "ローソン銀行ＡＴＭ 奈良中町共同出張所",
          "スギ薬局 東生駒店",
          "スギ薬局 登美ケ丘店",
          "スポーツクラブ＆スパ ルネサンス 登美ヶ丘",
          "セブン-イレブン 大東谷川２丁目店",
          "セブン-イレブン 奈良中登美ヶ丘３丁目店",
          "リッケンスポーツクラブ精華教室",
          "ラーメン大和 四條畷店",
          "セブン-イレブン 奈良四条大路４丁目店",
          "セブン-イレブン 奈良押熊町店",
          "ユクリ",
          "セブン銀行ATM",
          "ミニストップ 伊賀畑村店",
          "ベル不動産コンサルタント（株）",
          "トリカヂ イッパイ",
          "ドイツ菓子 ゲベック 本店",
          "ドコモショップ学研北生駒店",
          "ニューヤマザキデイリーストア 奈良先端科学技術大学店",
          "ノムラクリーニング 谷田店",
          "ローソン銀行ＡＴＭ 木津川山城共同出張所",
          "シャトレーゼ 四條畷店",
          "木津川台",
          "個別指導キャンパス 富雄校",
          "ゆうちょ銀行 大阪支店 ファミリーマート奈良中町店内出張所",
          "掛橋（バス）",
          "りらくる 押熊店",
          "アサノブロック（株）",
          "パン工房 西山荘",
          "エヌ・アイ・プランニング",
          "カインズ 奈良二名店",
          "奈良先端科学技術大学院大学（バス）",
          "奈良トヨペット 登美ヶ丘店",
          "天丼・天ぷら本舗 さん天 外環善根寺店",
          "天丼・天ぷら本舗 さん天 四條畷店",
          "コイン精米所",
          "大和織布（有）",
          "堺浜大阪ガス天然ガススタンド",
          "ココカラファイン 北登美ケ丘店",
          "コスモ石油 セルフ登美ヶ丘 SS (コスモ石油販売大阪カンパニー)",
          "コメリパワー 生駒店",
          "北大和一丁目（バス）",
          "元喜神 押熊店",
          "ＵＲ奈良 学園前"
         ],
         "xaxis": "x",
         "y": [
          67,
          36,
          35,
          29,
          27,
          23,
          21,
          20,
          20,
          19,
          17,
          15,
          14,
          13,
          13,
          12,
          11,
          11,
          11,
          11,
          10,
          8,
          8,
          8,
          7,
          7,
          7,
          7,
          7,
          7,
          6,
          6,
          6,
          6,
          6,
          6,
          5,
          5,
          5,
          5,
          5,
          5,
          5,
          5,
          5,
          5,
          5,
          5,
          4,
          4,
          4,
          4,
          4,
          4,
          4,
          4,
          4,
          4,
          4,
          4,
          4,
          3,
          3,
          3,
          3,
          3,
          3,
          3,
          3,
          3,
          3,
          3,
          3,
          3,
          3,
          3,
          3,
          3,
          3,
          3,
          3,
          3,
          3,
          3,
          3,
          3,
          3,
          3,
          3,
          3,
          3,
          3,
          3,
          3,
          3,
          3,
          3,
          3,
          3,
          3,
          2,
          2,
          2,
          2,
          2,
          2,
          2,
          2,
          2,
          2,
          2,
          2,
          2,
          2,
          2,
          2,
          2,
          2,
          2,
          2,
          2,
          2,
          2,
          2,
          2,
          2,
          2,
          2,
          2,
          2,
          2,
          2,
          2,
          2,
          2,
          2,
          2,
          2,
          2,
          2,
          2,
          2,
          2,
          2,
          2,
          2,
          2,
          2,
          2,
          2,
          1,
          1,
          1,
          1,
          1,
          1,
          1,
          1,
          1,
          1,
          1,
          1,
          1,
          1,
          1,
          1,
          1,
          1,
          1,
          1,
          1,
          1,
          1,
          1,
          1,
          1,
          1,
          1,
          1,
          1,
          1,
          1,
          1,
          1,
          1,
          1,
          1,
          1,
          1,
          1,
          1,
          1,
          1,
          1,
          1,
          1,
          1,
          1,
          1,
          1,
          1,
          1,
          1,
          1,
          1,
          1,
          1,
          1,
          1,
          1,
          1,
          1,
          1,
          1,
          1,
          1,
          1,
          1,
          1,
          1,
          1,
          1,
          1,
          1,
          1,
          1,
          1,
          1,
          1,
          1,
          1,
          1
         ],
         "yaxis": "y"
        }
       ],
       "layout": {
        "barmode": "relative",
        "font": {
         "size": 9
        },
        "legend": {
         "tracegroupgap": 0
        },
        "template": {
         "data": {
          "bar": [
           {
            "error_x": {
             "color": "#2a3f5f"
            },
            "error_y": {
             "color": "#2a3f5f"
            },
            "marker": {
             "line": {
              "color": "#E5ECF6",
              "width": 0.5
             },
             "pattern": {
              "fillmode": "overlay",
              "size": 10,
              "solidity": 0.2
             }
            },
            "type": "bar"
           }
          ],
          "barpolar": [
           {
            "marker": {
             "line": {
              "color": "#E5ECF6",
              "width": 0.5
             },
             "pattern": {
              "fillmode": "overlay",
              "size": 10,
              "solidity": 0.2
             }
            },
            "type": "barpolar"
           }
          ],
          "carpet": [
           {
            "aaxis": {
             "endlinecolor": "#2a3f5f",
             "gridcolor": "white",
             "linecolor": "white",
             "minorgridcolor": "white",
             "startlinecolor": "#2a3f5f"
            },
            "baxis": {
             "endlinecolor": "#2a3f5f",
             "gridcolor": "white",
             "linecolor": "white",
             "minorgridcolor": "white",
             "startlinecolor": "#2a3f5f"
            },
            "type": "carpet"
           }
          ],
          "choropleth": [
           {
            "colorbar": {
             "outlinewidth": 0,
             "ticks": ""
            },
            "type": "choropleth"
           }
          ],
          "contour": [
           {
            "colorbar": {
             "outlinewidth": 0,
             "ticks": ""
            },
            "colorscale": [
             [
              0,
              "#0d0887"
             ],
             [
              0.1111111111111111,
              "#46039f"
             ],
             [
              0.2222222222222222,
              "#7201a8"
             ],
             [
              0.3333333333333333,
              "#9c179e"
             ],
             [
              0.4444444444444444,
              "#bd3786"
             ],
             [
              0.5555555555555556,
              "#d8576b"
             ],
             [
              0.6666666666666666,
              "#ed7953"
             ],
             [
              0.7777777777777778,
              "#fb9f3a"
             ],
             [
              0.8888888888888888,
              "#fdca26"
             ],
             [
              1,
              "#f0f921"
             ]
            ],
            "type": "contour"
           }
          ],
          "contourcarpet": [
           {
            "colorbar": {
             "outlinewidth": 0,
             "ticks": ""
            },
            "type": "contourcarpet"
           }
          ],
          "heatmap": [
           {
            "colorbar": {
             "outlinewidth": 0,
             "ticks": ""
            },
            "colorscale": [
             [
              0,
              "#0d0887"
             ],
             [
              0.1111111111111111,
              "#46039f"
             ],
             [
              0.2222222222222222,
              "#7201a8"
             ],
             [
              0.3333333333333333,
              "#9c179e"
             ],
             [
              0.4444444444444444,
              "#bd3786"
             ],
             [
              0.5555555555555556,
              "#d8576b"
             ],
             [
              0.6666666666666666,
              "#ed7953"
             ],
             [
              0.7777777777777778,
              "#fb9f3a"
             ],
             [
              0.8888888888888888,
              "#fdca26"
             ],
             [
              1,
              "#f0f921"
             ]
            ],
            "type": "heatmap"
           }
          ],
          "heatmapgl": [
           {
            "colorbar": {
             "outlinewidth": 0,
             "ticks": ""
            },
            "colorscale": [
             [
              0,
              "#0d0887"
             ],
             [
              0.1111111111111111,
              "#46039f"
             ],
             [
              0.2222222222222222,
              "#7201a8"
             ],
             [
              0.3333333333333333,
              "#9c179e"
             ],
             [
              0.4444444444444444,
              "#bd3786"
             ],
             [
              0.5555555555555556,
              "#d8576b"
             ],
             [
              0.6666666666666666,
              "#ed7953"
             ],
             [
              0.7777777777777778,
              "#fb9f3a"
             ],
             [
              0.8888888888888888,
              "#fdca26"
             ],
             [
              1,
              "#f0f921"
             ]
            ],
            "type": "heatmapgl"
           }
          ],
          "histogram": [
           {
            "marker": {
             "pattern": {
              "fillmode": "overlay",
              "size": 10,
              "solidity": 0.2
             }
            },
            "type": "histogram"
           }
          ],
          "histogram2d": [
           {
            "colorbar": {
             "outlinewidth": 0,
             "ticks": ""
            },
            "colorscale": [
             [
              0,
              "#0d0887"
             ],
             [
              0.1111111111111111,
              "#46039f"
             ],
             [
              0.2222222222222222,
              "#7201a8"
             ],
             [
              0.3333333333333333,
              "#9c179e"
             ],
             [
              0.4444444444444444,
              "#bd3786"
             ],
             [
              0.5555555555555556,
              "#d8576b"
             ],
             [
              0.6666666666666666,
              "#ed7953"
             ],
             [
              0.7777777777777778,
              "#fb9f3a"
             ],
             [
              0.8888888888888888,
              "#fdca26"
             ],
             [
              1,
              "#f0f921"
             ]
            ],
            "type": "histogram2d"
           }
          ],
          "histogram2dcontour": [
           {
            "colorbar": {
             "outlinewidth": 0,
             "ticks": ""
            },
            "colorscale": [
             [
              0,
              "#0d0887"
             ],
             [
              0.1111111111111111,
              "#46039f"
             ],
             [
              0.2222222222222222,
              "#7201a8"
             ],
             [
              0.3333333333333333,
              "#9c179e"
             ],
             [
              0.4444444444444444,
              "#bd3786"
             ],
             [
              0.5555555555555556,
              "#d8576b"
             ],
             [
              0.6666666666666666,
              "#ed7953"
             ],
             [
              0.7777777777777778,
              "#fb9f3a"
             ],
             [
              0.8888888888888888,
              "#fdca26"
             ],
             [
              1,
              "#f0f921"
             ]
            ],
            "type": "histogram2dcontour"
           }
          ],
          "mesh3d": [
           {
            "colorbar": {
             "outlinewidth": 0,
             "ticks": ""
            },
            "type": "mesh3d"
           }
          ],
          "parcoords": [
           {
            "line": {
             "colorbar": {
              "outlinewidth": 0,
              "ticks": ""
             }
            },
            "type": "parcoords"
           }
          ],
          "pie": [
           {
            "automargin": true,
            "type": "pie"
           }
          ],
          "scatter": [
           {
            "fillpattern": {
             "fillmode": "overlay",
             "size": 10,
             "solidity": 0.2
            },
            "type": "scatter"
           }
          ],
          "scatter3d": [
           {
            "line": {
             "colorbar": {
              "outlinewidth": 0,
              "ticks": ""
             }
            },
            "marker": {
             "colorbar": {
              "outlinewidth": 0,
              "ticks": ""
             }
            },
            "type": "scatter3d"
           }
          ],
          "scattercarpet": [
           {
            "marker": {
             "colorbar": {
              "outlinewidth": 0,
              "ticks": ""
             }
            },
            "type": "scattercarpet"
           }
          ],
          "scattergeo": [
           {
            "marker": {
             "colorbar": {
              "outlinewidth": 0,
              "ticks": ""
             }
            },
            "type": "scattergeo"
           }
          ],
          "scattergl": [
           {
            "marker": {
             "colorbar": {
              "outlinewidth": 0,
              "ticks": ""
             }
            },
            "type": "scattergl"
           }
          ],
          "scattermapbox": [
           {
            "marker": {
             "colorbar": {
              "outlinewidth": 0,
              "ticks": ""
             }
            },
            "type": "scattermapbox"
           }
          ],
          "scatterpolar": [
           {
            "marker": {
             "colorbar": {
              "outlinewidth": 0,
              "ticks": ""
             }
            },
            "type": "scatterpolar"
           }
          ],
          "scatterpolargl": [
           {
            "marker": {
             "colorbar": {
              "outlinewidth": 0,
              "ticks": ""
             }
            },
            "type": "scatterpolargl"
           }
          ],
          "scatterternary": [
           {
            "marker": {
             "colorbar": {
              "outlinewidth": 0,
              "ticks": ""
             }
            },
            "type": "scatterternary"
           }
          ],
          "surface": [
           {
            "colorbar": {
             "outlinewidth": 0,
             "ticks": ""
            },
            "colorscale": [
             [
              0,
              "#0d0887"
             ],
             [
              0.1111111111111111,
              "#46039f"
             ],
             [
              0.2222222222222222,
              "#7201a8"
             ],
             [
              0.3333333333333333,
              "#9c179e"
             ],
             [
              0.4444444444444444,
              "#bd3786"
             ],
             [
              0.5555555555555556,
              "#d8576b"
             ],
             [
              0.6666666666666666,
              "#ed7953"
             ],
             [
              0.7777777777777778,
              "#fb9f3a"
             ],
             [
              0.8888888888888888,
              "#fdca26"
             ],
             [
              1,
              "#f0f921"
             ]
            ],
            "type": "surface"
           }
          ],
          "table": [
           {
            "cells": {
             "fill": {
              "color": "#EBF0F8"
             },
             "line": {
              "color": "white"
             }
            },
            "header": {
             "fill": {
              "color": "#C8D4E3"
             },
             "line": {
              "color": "white"
             }
            },
            "type": "table"
           }
          ]
         },
         "layout": {
          "annotationdefaults": {
           "arrowcolor": "#2a3f5f",
           "arrowhead": 0,
           "arrowwidth": 1
          },
          "autotypenumbers": "strict",
          "coloraxis": {
           "colorbar": {
            "outlinewidth": 0,
            "ticks": ""
           }
          },
          "colorscale": {
           "diverging": [
            [
             0,
             "#8e0152"
            ],
            [
             0.1,
             "#c51b7d"
            ],
            [
             0.2,
             "#de77ae"
            ],
            [
             0.3,
             "#f1b6da"
            ],
            [
             0.4,
             "#fde0ef"
            ],
            [
             0.5,
             "#f7f7f7"
            ],
            [
             0.6,
             "#e6f5d0"
            ],
            [
             0.7,
             "#b8e186"
            ],
            [
             0.8,
             "#7fbc41"
            ],
            [
             0.9,
             "#4d9221"
            ],
            [
             1,
             "#276419"
            ]
           ],
           "sequential": [
            [
             0,
             "#0d0887"
            ],
            [
             0.1111111111111111,
             "#46039f"
            ],
            [
             0.2222222222222222,
             "#7201a8"
            ],
            [
             0.3333333333333333,
             "#9c179e"
            ],
            [
             0.4444444444444444,
             "#bd3786"
            ],
            [
             0.5555555555555556,
             "#d8576b"
            ],
            [
             0.6666666666666666,
             "#ed7953"
            ],
            [
             0.7777777777777778,
             "#fb9f3a"
            ],
            [
             0.8888888888888888,
             "#fdca26"
            ],
            [
             1,
             "#f0f921"
            ]
           ],
           "sequentialminus": [
            [
             0,
             "#0d0887"
            ],
            [
             0.1111111111111111,
             "#46039f"
            ],
            [
             0.2222222222222222,
             "#7201a8"
            ],
            [
             0.3333333333333333,
             "#9c179e"
            ],
            [
             0.4444444444444444,
             "#bd3786"
            ],
            [
             0.5555555555555556,
             "#d8576b"
            ],
            [
             0.6666666666666666,
             "#ed7953"
            ],
            [
             0.7777777777777778,
             "#fb9f3a"
            ],
            [
             0.8888888888888888,
             "#fdca26"
            ],
            [
             1,
             "#f0f921"
            ]
           ]
          },
          "colorway": [
           "#636efa",
           "#EF553B",
           "#00cc96",
           "#ab63fa",
           "#FFA15A",
           "#19d3f3",
           "#FF6692",
           "#B6E880",
           "#FF97FF",
           "#FECB52"
          ],
          "font": {
           "color": "#2a3f5f"
          },
          "geo": {
           "bgcolor": "white",
           "lakecolor": "white",
           "landcolor": "#E5ECF6",
           "showlakes": true,
           "showland": true,
           "subunitcolor": "white"
          },
          "hoverlabel": {
           "align": "left"
          },
          "hovermode": "closest",
          "mapbox": {
           "style": "light"
          },
          "paper_bgcolor": "white",
          "plot_bgcolor": "#E5ECF6",
          "polar": {
           "angularaxis": {
            "gridcolor": "white",
            "linecolor": "white",
            "ticks": ""
           },
           "bgcolor": "#E5ECF6",
           "radialaxis": {
            "gridcolor": "white",
            "linecolor": "white",
            "ticks": ""
           }
          },
          "scene": {
           "xaxis": {
            "backgroundcolor": "#E5ECF6",
            "gridcolor": "white",
            "gridwidth": 2,
            "linecolor": "white",
            "showbackground": true,
            "ticks": "",
            "zerolinecolor": "white"
           },
           "yaxis": {
            "backgroundcolor": "#E5ECF6",
            "gridcolor": "white",
            "gridwidth": 2,
            "linecolor": "white",
            "showbackground": true,
            "ticks": "",
            "zerolinecolor": "white"
           },
           "zaxis": {
            "backgroundcolor": "#E5ECF6",
            "gridcolor": "white",
            "gridwidth": 2,
            "linecolor": "white",
            "showbackground": true,
            "ticks": "",
            "zerolinecolor": "white"
           }
          },
          "shapedefaults": {
           "line": {
            "color": "#2a3f5f"
           }
          },
          "ternary": {
           "aaxis": {
            "gridcolor": "white",
            "linecolor": "white",
            "ticks": ""
           },
           "baxis": {
            "gridcolor": "white",
            "linecolor": "white",
            "ticks": ""
           },
           "bgcolor": "#E5ECF6",
           "caxis": {
            "gridcolor": "white",
            "linecolor": "white",
            "ticks": ""
           }
          },
          "title": {
           "x": 0.05
          },
          "xaxis": {
           "automargin": true,
           "gridcolor": "white",
           "linecolor": "white",
           "ticks": "",
           "title": {
            "standoff": 15
           },
           "zerolinecolor": "white",
           "zerolinewidth": 2
          },
          "yaxis": {
           "automargin": true,
           "gridcolor": "white",
           "linecolor": "white",
           "ticks": "",
           "title": {
            "standoff": 15
           },
           "zerolinecolor": "white",
           "zerolinewidth": 2
          }
         }
        },
        "title": {
         "text": "乗車人数が3人以上のときに、どのspotへ行ったかを調べ、行った回数をカウントするサンプル(2)"
        },
        "xaxis": {
         "anchor": "y",
         "domain": [
          0,
          1
         ],
         "tickangle": 45,
         "title": {
          "text": "スポット名"
         }
        },
        "yaxis": {
         "anchor": "x",
         "domain": [
          0,
          1
         ],
         "title": {
          "text": "行った回数"
         }
        }
       }
      }
     },
     "metadata": {},
     "output_type": "display_data"
    }
   ],
   "source": [
    "# 乗車人数が3人以上のときに，どのspotへ行ったかを調べ，行った回数をカウントするサンプル\n",
    "\n",
    "# 参考リンク\n",
    "# テーブル結合 https://note.nkmk.me/en/python-pandas-merge-join/\n",
    "# データ集計 https://note.nkmk.me/python-pandas-groupby-statistics/\n",
    "# データの重複削除 https://note.nkmk.me/python-pandas-duplicated-drop-duplicates/\n",
    "# ソート https://note.nkmk.me/python-pandas-sort-in-any-order/\n",
    "# ソート https://note.nkmk.me/python-pandas-sort-values-sort-index/\n",
    "# グラフ描画 https://plotly.com/python/\n",
    "\n",
    "import plotly.express as px\n",
    "\n",
    "# trip tableとhistory tableを結合\n",
    "trip_with_history = trip_df.merge(history_df, on=\"history_id\")\n",
    "# 乗車人数が3人以上のもので絞り込み\n",
    "trip_more_than_three_passengers = trip_with_history[\n",
    "    trip_with_history[\"passengers_count\"] >= 3\n",
    "]\n",
    "# spot_idを元にspot tableを結合する\n",
    "trip_with_spot = trip_more_than_three_passengers.merge(spot_df, on=\"spot_id\")\n",
    "# is_parkingがFalseのものだけ抽出する\n",
    "trip_with_non_parking_spot = trip_with_spot[trip_with_spot[\"is_parking\"] == False]\n",
    "\n",
    "# 可視化パターン1\n",
    "# spot_idに基づいて，spot_nameとその件数を取得し，ソートする\n",
    "result_df = (\n",
    "    trip_with_non_parking_spot.groupby([\"spot_id\", \"spot_name\"])\n",
    "    .size()\n",
    "    .to_frame(\"count\")\n",
    "    .sort_values(\"count\", ascending=False)\n",
    "    .reset_index()\n",
    ")\n",
    "\n",
    "fig1 = px.bar(\n",
    "    result_df,\n",
    "    x=\"spot_name\",\n",
    "    y=\"count\",\n",
    "    title=\"乗車人数が3人以上のときに、どのspotへ行ったかを調べ、行った回数をカウントするサンプル(1)\",\n",
    "    labels={\"count\": \"行った回数\"}, \n",
    ")\n",
    "fig1.update_layout(\n",
    "    xaxis=dict(\n",
    "        tickangle=45,\n",
    "        title_text=\"スポット名\",\n",
    "    ),\n",
    "    yaxis=dict(\n",
    "        title_text=\"行った回数\",\n",
    "    ),\n",
    "    font=dict(\n",
    "        size=9,\n",
    "    ),\n",
    ")\n",
    "fig1.show()\n",
    "\n",
    "\n",
    "# 可視化パターン2\n",
    "# spot_nameに基づいて，その件数を取得し，ソートする\n",
    "total_counts_df = (\n",
    "    trip_with_non_parking_spot.groupby('spot_name')['count']\n",
    "    .size()\n",
    "    .to_frame(\"count\")\n",
    "    .sort_values(\"count\", ascending=False)\n",
    "    .reset_index()\n",
    ")\n",
    "\n",
    "fig2 = px.bar(\n",
    "    total_counts_df,\n",
    "    x=\"spot_name\",\n",
    "    y=\"count\",\n",
    "    title=\"乗車人数が3人以上のときに、どのspotへ行ったかを調べ、行った回数をカウントするサンプル(2)\",\n",
    "    labels={\"count\": \"行った回数\"}, \n",
    ")\n",
    "fig2.update_layout(\n",
    "    xaxis=dict(\n",
    "        tickangle=45,\n",
    "        title_text=\"スポット名\",\n",
    "    ),\n",
    "    yaxis=dict(\n",
    "        title_text=\"行った回数\",\n",
    "    ),\n",
    "    font=dict(\n",
    "        size=9,\n",
    "    ),\n",
    ")\n",
    "fig2.show()\n"
   ]
  },
  {
   "cell_type": "code",
   "execution_count": null,
   "metadata": {},
   "outputs": [],
   "source": []
  }
 ],
 "metadata": {
  "kernelspec": {
   "display_name": "Python 3",
   "language": "python",
   "name": "python3"
  },
  "language_info": {
   "codemirror_mode": {
    "name": "ipython",
    "version": 3
   },
   "file_extension": ".py",
   "mimetype": "text/x-python",
   "name": "python",
   "nbconvert_exporter": "python",
   "pygments_lexer": "ipython3",
   "version": "3.9.10"
  }
 },
 "nbformat": 4,
 "nbformat_minor": 2
}
